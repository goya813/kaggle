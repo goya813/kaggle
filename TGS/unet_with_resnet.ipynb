{
 "cells": [
  {
   "cell_type": "markdown",
   "metadata": {
    "_uuid": "c8fc6c3e84f282d0e6f664caf9848297b6c62a16"
   },
   "source": [
    "### U-net with simple Resnet Blocks v2, can get 0.80+\n",
    "* Original version : \n",
    "  https://www.kaggle.com/shaojiaxin/u-net-with-simple-resnet-blocks\n",
    "        \n",
    "        \n",
    "#### update log\n",
    "1.   Cancel last dropout (seems better)\n",
    "2.  modify convolution_block, to be more consistant with the standard resent model. \n",
    "      * https://arxiv.org/abs/1603.05027\n",
    "3. Use faster  IOU metric score code,\n",
    "      * https://www.kaggle.com/donchuk/fast-implementation-of-scoring-metric\n",
    "4. Use  binary_crossentropy loss and then Lovász-hinge loss (very slow!)\n",
    "     * Lovász-hinge loss: https://github.com/bermanmaxim/LovaszSoftmax\n",
    "     \n",
    "Limit the max epochs number to make the kernel finish in the limit of 6 hours, better score can be achived at more epochs "
   ]
  },
  {
   "cell_type": "code",
   "execution_count": 3,
   "metadata": {},
   "outputs": [
    {
     "name": "stdout",
     "output_type": "stream",
     "text": [
      "Requirement already satisfied: tqdm in /usr/local/envs/py3env/lib/python3.5/site-packages (4.27.0)\r\n"
     ]
    }
   ],
   "source": [
    "!pip3 install tqdm"
   ]
  },
  {
   "cell_type": "code",
   "execution_count": 2,
   "metadata": {},
   "outputs": [
    {
     "name": "stdout",
     "output_type": "stream",
     "text": [
      "Requirement already satisfied: keras in /usr/local/envs/py3env/lib/python3.5/site-packages (2.2.4)\n",
      "Requirement already satisfied: pyyaml in /usr/local/envs/py3env/lib/python3.5/site-packages (from keras) (3.13)\n",
      "Requirement already satisfied: six>=1.9.0 in /usr/local/envs/py3env/lib/python3.5/site-packages (from keras) (1.10.0)\n",
      "Requirement already satisfied: numpy>=1.9.1 in /usr/local/envs/py3env/lib/python3.5/site-packages (from keras) (1.14.0)\n",
      "Requirement already satisfied: keras-applications>=1.0.6 in /usr/local/envs/py3env/lib/python3.5/site-packages (from keras) (1.0.6)\n",
      "Requirement already satisfied: keras-preprocessing>=1.0.5 in /usr/local/envs/py3env/lib/python3.5/site-packages (from keras) (1.0.5)\n",
      "Requirement already satisfied: h5py in /usr/local/envs/py3env/lib/python3.5/site-packages (from keras) (2.8.0)\n",
      "Requirement already satisfied: scipy>=0.14 in /usr/local/envs/py3env/lib/python3.5/site-packages (from keras) (1.0.0)\n"
     ]
    }
   ],
   "source": [
    "!pip3 install keras"
   ]
  },
  {
   "cell_type": "code",
   "execution_count": 1,
   "metadata": {
    "_cell_guid": "b1076dfc-b9ad-4769-8c92-a6c4dae69d19",
    "_uuid": "8f2839f25d086af736a60e9eeb907d3b93b6e0e5"
   },
   "outputs": [
    {
     "name": "stderr",
     "output_type": "stream",
     "text": [
      "Using TensorFlow backend.\n"
     ]
    }
   ],
   "source": [
    "import os\n",
    "import sys\n",
    "import random\n",
    "\n",
    "import pandas as pd\n",
    "import numpy as np\n",
    "import matplotlib.pyplot as plt\n",
    "plt.style.use('seaborn-white')\n",
    "import seaborn as sns\n",
    "sns.set_style(\"white\")\n",
    "\n",
    "%matplotlib inline\n",
    "\n",
    "# import cv2\n",
    "from sklearn.model_selection import train_test_split\n",
    "\n",
    "from tqdm import tqdm_notebook #, tnrange\n",
    "#from itertools import chain\n",
    "from skimage.io import imread, imshow #, concatenate_images\n",
    "from skimage.transform import resize\n",
    "from skimage.morphology import label\n",
    "\n",
    "from keras.models import Model, load_model, save_model\n",
    "from keras.layers import Input,Dropout,BatchNormalization,Activation,Add\n",
    "from keras.layers.core import Lambda\n",
    "from keras.layers.convolutional import Conv2D, Conv2DTranspose\n",
    "from keras.layers.pooling import MaxPooling2D\n",
    "from keras.layers.merge import concatenate\n",
    "from keras.callbacks import EarlyStopping, ModelCheckpoint, ReduceLROnPlateau\n",
    "from keras import backend as K\n",
    "from keras import optimizers\n",
    "\n",
    "import tensorflow as tf\n",
    "from keras.utils.training_utils import multi_gpu_model\n",
    "\n",
    "from keras.preprocessing.image import array_to_img, img_to_array, load_img#,save_img\n",
    "\n",
    "from multiGPUCheckPointCallback import MultiGPUCheckpointCallback\n",
    "\n",
    "from Eve import Eve\n",
    "\n",
    "import time\n",
    "t_start = time.time()"
   ]
  },
  {
   "cell_type": "code",
   "execution_count": 2,
   "metadata": {
    "_uuid": "2c36d16775556c3e358edefab5710dc1541ccfc4"
   },
   "outputs": [
    {
     "name": "stdout",
     "output_type": "stream",
     "text": [
      "./models/Unet_resnet_v7.model\n",
      "./models/Unet_resnet_v7.csv\n"
     ]
    }
   ],
   "source": [
    "version = 7\n",
    "basic_name = './models/Unet_resnet_v{0}'.format(version)\n",
    "save_model_name = basic_name + '.model'\n",
    "submission_file = basic_name + '.csv'\n",
    "\n",
    "print(save_model_name)\n",
    "print(submission_file)"
   ]
  },
  {
   "cell_type": "code",
   "execution_count": 3,
   "metadata": {
    "_uuid": "63c469280793719bf311d51e6ba2cdaea157d175"
   },
   "outputs": [],
   "source": [
    "img_size_ori = 101\n",
    "img_size_target = 101\n",
    "n_features = 1\n",
    "\n",
    "path_train = './train'\n",
    "path_test = './test'\n",
    "\n",
    "def upsample(img):# not used\n",
    "    if img_size_ori == img_size_target:\n",
    "        return img\n",
    "    return resize(img, (img_size_target, img_size_target), mode='constant', preserve_range=True)\n",
    "    \n",
    "def downsample(img):# not used\n",
    "    if img_size_ori == img_size_target:\n",
    "        return img\n",
    "    return resize(img, (img_size_ori, img_size_ori), mode='constant', preserve_range=True)"
   ]
  },
  {
   "cell_type": "code",
   "execution_count": 4,
   "metadata": {
    "_uuid": "1a64babef03b9a0dbc94387a1dad54971c3e028d"
   },
   "outputs": [],
   "source": [
    "# Loading of training/testing ids and depths\n",
    "train_df = pd.read_csv(\"./train.csv\", index_col=\"id\", usecols=[0])\n",
    "depths_df = pd.read_csv(\"./depths.csv\", index_col=\"id\")"
   ]
  },
  {
   "cell_type": "code",
   "execution_count": 5,
   "metadata": {},
   "outputs": [],
   "source": [
    "depths_norm_df = (depths_df - depths_df.mean()) / depths_df.std()\n",
    "#depths_norm_df = (depths_df - depths_df.min()) / (depths_df.max() - depths_df.min())\n",
    "\n",
    "depths_df = depths_norm_df"
   ]
  },
  {
   "cell_type": "code",
   "execution_count": 6,
   "metadata": {},
   "outputs": [
    {
     "data": {
      "text/plain": [
       "4000"
      ]
     },
     "execution_count": 6,
     "metadata": {},
     "output_type": "execute_result"
    }
   ],
   "source": [
    "train_df = train_df.join(depths_df)\n",
    "test_df = depths_df[~depths_df.index.isin(train_df.index)]\n",
    "\n",
    "len(train_df)"
   ]
  },
  {
   "cell_type": "code",
   "execution_count": 7,
   "metadata": {
    "_uuid": "80c3768717007fb5f087d3e01619f1a9f9a3beac"
   },
   "outputs": [
    {
     "data": {
      "application/vnd.jupyter.widget-view+json": {
       "model_id": "a231454a4566460aa5fd461b0de0cb49",
       "version_major": 2,
       "version_minor": 0
      },
      "text/plain": [
       "HBox(children=(IntProgress(value=0, max=4000), HTML(value='')))"
      ]
     },
     "metadata": {},
     "output_type": "display_data"
    },
    {
     "name": "stderr",
     "output_type": "stream",
     "text": [
      "/usr/local/envs/py3env/lib/python3.5/site-packages/keras_preprocessing/image.py:492: UserWarning: grayscale is deprecated. Please use color_mode = \"grayscale\"\n",
      "  warnings.warn('grayscale is deprecated. Please use '\n"
     ]
    },
    {
     "name": "stdout",
     "output_type": "stream",
     "text": [
      "\n"
     ]
    }
   ],
   "source": [
    "train_df[\"images\"] = [np.array(load_img(path_train + \"/images/{}.png\".format(idx), grayscale=True)) / 255 for idx in tqdm_notebook(train_df.index)]"
   ]
  },
  {
   "cell_type": "code",
   "execution_count": 8,
   "metadata": {
    "_uuid": "9f55103f7daad6f03ec874c643077fe686c31bee"
   },
   "outputs": [
    {
     "data": {
      "application/vnd.jupyter.widget-view+json": {
       "model_id": "de89590f4b204138aa1bd65eb2185609",
       "version_major": 2,
       "version_minor": 0
      },
      "text/plain": [
       "HBox(children=(IntProgress(value=0, max=4000), HTML(value='')))"
      ]
     },
     "metadata": {},
     "output_type": "display_data"
    },
    {
     "name": "stderr",
     "output_type": "stream",
     "text": [
      "/usr/local/envs/py3env/lib/python3.5/site-packages/keras_preprocessing/image.py:492: UserWarning: grayscale is deprecated. Please use color_mode = \"grayscale\"\n",
      "  warnings.warn('grayscale is deprecated. Please use '\n"
     ]
    },
    {
     "name": "stdout",
     "output_type": "stream",
     "text": [
      "\n"
     ]
    }
   ],
   "source": [
    "train_df[\"masks\"] = [np.array(load_img(path_train + \"/masks/{}.png\".format(idx), grayscale=True)) / 255 for idx in tqdm_notebook(train_df.index)]"
   ]
  },
  {
   "cell_type": "code",
   "execution_count": 9,
   "metadata": {
    "_uuid": "010066dd50ef4fdfa7dabe2c946fd7491f9556fd"
   },
   "outputs": [],
   "source": [
    "train_df[\"coverage\"] = train_df.masks.map(np.sum) / pow(img_size_ori, 2)\n",
    "\n",
    "def cov_to_class(val):    \n",
    "    for i in range(0, 11):\n",
    "        if val * 10 <= i :\n",
    "            return i\n",
    "        \n",
    "train_df[\"coverage_class\"] = train_df.coverage.map(cov_to_class)\n"
   ]
  },
  {
   "cell_type": "code",
   "execution_count": 10,
   "metadata": {
    "_uuid": "2ad5ac1576277fc54d768933c36efd1f9ff01acd"
   },
   "outputs": [
    {
     "data": {
      "text/plain": [
       "Text(0.5,0,'Coverage class')"
      ]
     },
     "execution_count": 10,
     "metadata": {},
     "output_type": "execute_result"
    },
    {
     "name": "stderr",
     "output_type": "stream",
     "text": [
      "/usr/local/envs/py3env/lib/python3.5/site-packages/matplotlib/font_manager.py:1320: UserWarning: findfont: Font family ['sans-serif'] not found. Falling back to DejaVu Sans\n",
      "  (prop.get_family(), self.defaultFamily[fontext]))\n"
     ]
    },
    {
     "data": {
      "image/png": "[encoded data removed]",
      "text/plain": [
       "<matplotlib.figure.Figure at 0x7f1d2b3af2b0>"
      ]
     },
     "metadata": {},
     "output_type": "display_data"
    }
   ],
   "source": [
    "fig, axs = plt.subplots(1, 2, figsize=(15,5))\n",
    "sns.distplot(train_df.coverage, kde=False, ax=axs[0])\n",
    "sns.distplot(train_df.coverage_class, bins=10, kde=False, ax=axs[1])\n",
    "plt.suptitle(\"Salt coverage\")\n",
    "axs[0].set_xlabel(\"Coverage\")\n",
    "axs[1].set_xlabel(\"Coverage class\")"
   ]
  },
  {
   "cell_type": "code",
   "execution_count": 11,
   "metadata": {
    "_uuid": "9f34c4263989a3d95af1e5922c1b7d2126655610"
   },
   "outputs": [
    {
     "data": {
      "text/plain": [
       "Text(0.5,1,'Depth distribution')"
      ]
     },
     "execution_count": 11,
     "metadata": {},
     "output_type": "execute_result"
    },
    {
     "name": "stderr",
     "output_type": "stream",
     "text": [
      "/usr/local/envs/py3env/lib/python3.5/site-packages/matplotlib/font_manager.py:1320: UserWarning: findfont: Font family ['sans-serif'] not found. Falling back to DejaVu Sans\n",
      "  (prop.get_family(), self.defaultFamily[fontext]))\n"
     ]
    },
    {
     "data": {
      "image/png": "[encoded data removed]",
      "text/plain": [
       "<matplotlib.figure.Figure at 0x7f1d2b345630>"
      ]
     },
     "metadata": {},
     "output_type": "display_data"
    }
   ],
   "source": [
    "#Plotting the depth distributions¶\n",
    "\n",
    "sns.distplot(train_df.z, label=\"Train\")\n",
    "sns.distplot(test_df.z, label=\"Test\")\n",
    "plt.legend()\n",
    "plt.title(\"Depth distribution\")"
   ]
  },
  {
   "cell_type": "code",
   "execution_count": 12,
   "metadata": {
    "_uuid": "51981795f0dd6b8ca7abe4db367f48313b63811e"
   },
   "outputs": [],
   "source": [
    "# Create train/validation split stratified by salt coverage\n",
    "\n",
    "ids_train, ids_valid, x_train, x_valid, y_train, y_valid, cov_train, cov_test, depth_train, depth_test = train_test_split(\n",
    "    train_df.index.values,\n",
    "    np.array(train_df.images.map(upsample).tolist()).reshape(-1, img_size_target, img_size_target, 1), \n",
    "    np.array(train_df.masks.map(upsample).tolist()).reshape(-1, img_size_target, img_size_target, 1), \n",
    "    train_df.coverage.values,\n",
    "    train_df.z.values,\n",
    "    test_size=0.2, stratify=train_df.coverage_class, random_state= 1234)"
   ]
  },
  {
   "cell_type": "code",
   "execution_count": 13,
   "metadata": {
    "_uuid": "7fb577cdf27f365d4a912728c2a7654d0e60fac8"
   },
   "outputs": [],
   "source": [
    "def BatchActivate(x):\n",
    "    x = BatchNormalization()(x)\n",
    "    x = Activation('elu')(x)\n",
    "    return x\n",
    "\n",
    "def convolution_block(x, filters, size, strides=(1,1), padding='same', activation=True):\n",
    "    x = Conv2D(filters, size, strides=strides, padding=padding)(x)\n",
    "    if activation == True:\n",
    "        x = BatchActivate(x)\n",
    "    return x\n",
    "\n",
    "def residual_block(blockInput, num_filters=16, batch_activate = False):\n",
    "    x = BatchActivate(blockInput)\n",
    "    x = convolution_block(x, num_filters, (3,3) )\n",
    "    x = convolution_block(x, num_filters, (3,3), activation=False)\n",
    "    x = Add()([x, blockInput])\n",
    "    if batch_activate:\n",
    "        x = BatchActivate(x)\n",
    "    return x\n"
   ]
  },
  {
   "cell_type": "code",
   "execution_count": 14,
   "metadata": {
    "_uuid": "02967d71ee7f936254ab54acf2aa7c2e038a2b21"
   },
   "outputs": [],
   "source": [
    "# Build model\n",
    "def build_model(input_layer, start_neurons, DropoutRatio = 0.5):\n",
    "    # 101 -> 50\n",
    "    conv1 = Conv2D(start_neurons * 1, (3, 3), activation=None, padding=\"same\")(input_layer)\n",
    "    conv1 = residual_block(conv1,start_neurons * 1)\n",
    "    conv1 = residual_block(conv1,start_neurons * 1, True)\n",
    "    pool1 = MaxPooling2D((2, 2))(conv1)\n",
    "    pool1 = Dropout(DropoutRatio/2)(pool1)\n",
    "\n",
    "    # 50 -> 25\n",
    "    conv2 = Conv2D(start_neurons * 2, (3, 3), activation=None, padding=\"same\")(pool1)\n",
    "    conv2 = residual_block(conv2,start_neurons * 2)\n",
    "    conv2 = residual_block(conv2,start_neurons * 2, True)\n",
    "    pool2 = MaxPooling2D((2, 2))(conv2)\n",
    "    pool2 = Dropout(DropoutRatio)(pool2)\n",
    "\n",
    "    # 25 -> 12\n",
    "    conv3 = Conv2D(start_neurons * 4, (3, 3), activation=None, padding=\"same\")(pool2)\n",
    "    conv3 = residual_block(conv3,start_neurons * 4)\n",
    "    conv3 = residual_block(conv3,start_neurons * 4, True)\n",
    "    pool3 = MaxPooling2D((2, 2))(conv3)\n",
    "    pool3 = Dropout(DropoutRatio)(pool3)\n",
    "\n",
    "    # 12 -> 6\n",
    "    conv4 = Conv2D(start_neurons * 8, (3, 3), activation=None, padding=\"same\")(pool3)\n",
    "    conv4 = residual_block(conv4,start_neurons * 8)\n",
    "    conv4 = residual_block(conv4,start_neurons * 8, True)\n",
    "    pool4 = MaxPooling2D((2, 2))(conv4)\n",
    "    pool4 = Dropout(DropoutRatio)(pool4)\n",
    "\n",
    "    # Middle\n",
    "    convm = Conv2D(start_neurons * 16, (3, 3), activation=None, padding=\"same\")(pool4)\n",
    "    convm = residual_block(convm,start_neurons * 16)\n",
    "    convm = residual_block(convm,start_neurons * 16, True)\n",
    "    \n",
    "    # 6 -> 12\n",
    "    deconv4 = Conv2DTranspose(start_neurons * 8, (3, 3), strides=(2, 2), padding=\"same\")(convm)\n",
    "    uconv4 = concatenate([deconv4, conv4])\n",
    "    uconv4 = Dropout(DropoutRatio)(uconv4)\n",
    "    \n",
    "    uconv4 = Conv2D(start_neurons * 8, (3, 3), activation=None, padding=\"same\")(uconv4)\n",
    "    uconv4 = residual_block(uconv4,start_neurons * 8)\n",
    "    uconv4 = residual_block(uconv4,start_neurons * 8, True)\n",
    "    \n",
    "    # 12 -> 25\n",
    "    #deconv3 = Conv2DTranspose(start_neurons * 4, (3, 3), strides=(2, 2), padding=\"same\")(uconv4)\n",
    "    deconv3 = Conv2DTranspose(start_neurons * 4, (3, 3), strides=(2, 2), padding=\"valid\")(uconv4)\n",
    "    uconv3 = concatenate([deconv3, conv3])    \n",
    "    uconv3 = Dropout(DropoutRatio)(uconv3)\n",
    "    \n",
    "    uconv3 = Conv2D(start_neurons * 4, (3, 3), activation=None, padding=\"same\")(uconv3)\n",
    "    uconv3 = residual_block(uconv3,start_neurons * 4)\n",
    "    uconv3 = residual_block(uconv3,start_neurons * 4, True)\n",
    "\n",
    "    # 25 -> 50\n",
    "    deconv2 = Conv2DTranspose(start_neurons * 2, (3, 3), strides=(2, 2), padding=\"same\")(uconv3)\n",
    "    uconv2 = concatenate([deconv2, conv2])\n",
    "        \n",
    "    uconv2 = Dropout(DropoutRatio)(uconv2)\n",
    "    uconv2 = Conv2D(start_neurons * 2, (3, 3), activation=None, padding=\"same\")(uconv2)\n",
    "    uconv2 = residual_block(uconv2,start_neurons * 2)\n",
    "    uconv2 = residual_block(uconv2,start_neurons * 2, True)\n",
    "    \n",
    "    # 50 -> 101\n",
    "    #deconv1 = Conv2DTranspose(start_neurons * 1, (3, 3), strides=(2, 2), padding=\"same\")(uconv2)\n",
    "    deconv1 = Conv2DTranspose(start_neurons * 1, (3, 3), strides=(2, 2), padding=\"valid\")(uconv2)\n",
    "    uconv1 = concatenate([deconv1, conv1])\n",
    "    \n",
    "    uconv1 = Dropout(DropoutRatio)(uconv1)\n",
    "    uconv1 = Conv2D(start_neurons * 1, (3, 3), activation=None, padding=\"same\")(uconv1)\n",
    "    uconv1 = residual_block(uconv1,start_neurons * 1)\n",
    "    uconv1 = residual_block(uconv1,start_neurons * 1, True)\n",
    "    \n",
    "    #uconv1 = Dropout(DropoutRatio/2)(uconv1)\n",
    "    #output_layer = Conv2D(1, (1,1), padding=\"same\", activation=\"sigmoid\")(uconv1)\n",
    "    output_layer_noActi = Conv2D(1, (1,1), padding=\"same\", activation=None)(uconv1)\n",
    "    output_layer =  Activation('sigmoid')(output_layer_noActi)\n",
    "    \n",
    "    return output_layer"
   ]
  },
  {
   "cell_type": "code",
   "execution_count": 15,
   "metadata": {
    "_uuid": "2bd5e479d3aa211bcb5fe32ce9c4d71cd012eefa"
   },
   "outputs": [],
   "source": [
    "def get_iou_vector(A, B):\n",
    "    batch_size = A.shape[0]\n",
    "    metric = []\n",
    "    for batch in range(batch_size):\n",
    "        t, p = A[batch]>0, B[batch]>0\n",
    "#         if np.count_nonzero(t) == 0 and np.count_nonzero(p) > 0:\n",
    "#             metric.append(0)\n",
    "#             continue\n",
    "#         if np.count_nonzero(t) >= 1 and np.count_nonzero(p) == 0:\n",
    "#             metric.append(0)\n",
    "#             continue\n",
    "#         if np.count_nonzero(t) == 0 and np.count_nonzero(p) == 0:\n",
    "#             metric.append(1)\n",
    "#             continue\n",
    "        \n",
    "        intersection = np.logical_and(t, p)\n",
    "        union = np.logical_or(t, p)\n",
    "        iou = (np.sum(intersection > 0) + 1e-10 )/ (np.sum(union > 0) + 1e-10)\n",
    "        thresholds = np.arange(0.5, 1, 0.05)\n",
    "        s = []\n",
    "        for thresh in thresholds:\n",
    "            s.append(iou > thresh)\n",
    "        metric.append(np.mean(s))\n",
    "\n",
    "    return np.mean(metric)\n",
    "\n",
    "def my_iou_metric(label, pred):\n",
    "    return tf.py_func(get_iou_vector, [label, pred>0.5], tf.float64)\n",
    "\n",
    "def my_iou_metric_2(label, pred):\n",
    "    return tf.py_func(get_iou_vector, [label, pred >0], tf.float64)"
   ]
  },
  {
   "cell_type": "code",
   "execution_count": 16,
   "metadata": {
    "_uuid": "e25caa2102813289cbd74796b612fbbfaaff8154"
   },
   "outputs": [],
   "source": [
    "# code download from: https://github.com/bermanmaxim/LovaszSoftmax\n",
    "def lovasz_grad(gt_sorted):\n",
    "    \"\"\"\n",
    "    Computes gradient of the Lovasz extension w.r.t sorted errors\n",
    "    See Alg. 1 in paper\n",
    "    \"\"\"\n",
    "    gts = tf.reduce_sum(gt_sorted)\n",
    "    intersection = gts - tf.cumsum(gt_sorted)\n",
    "    union = gts + tf.cumsum(1. - gt_sorted)\n",
    "    jaccard = 1. - intersection / union\n",
    "    jaccard = tf.concat((jaccard[0:1], jaccard[1:] - jaccard[:-1]), 0)\n",
    "    return jaccard\n",
    "\n",
    "\n",
    "# --------------------------- BINARY LOSSES ---------------------------\n",
    "\n",
    "def lovasz_hinge(logits, labels, per_image=True, ignore=None):\n",
    "    \"\"\"\n",
    "    Binary Lovasz hinge loss\n",
    "      logits: [B, H, W] Variable, logits at each pixel (between -\\infty and +\\infty)\n",
    "      labels: [B, H, W] Tensor, binary ground truth masks (0 or 1)\n",
    "      per_image: compute the loss per image instead of per batch\n",
    "      ignore: void class id\n",
    "    \"\"\"\n",
    "    if per_image:\n",
    "        def treat_image(log_lab):\n",
    "            log, lab = log_lab\n",
    "            log, lab = tf.expand_dims(log, 0), tf.expand_dims(lab, 0)\n",
    "            log, lab = flatten_binary_scores(log, lab, ignore)\n",
    "            return lovasz_hinge_flat(log, lab)\n",
    "        losses = tf.map_fn(treat_image, (logits, labels), dtype=tf.float32)\n",
    "        loss = tf.reduce_mean(losses)\n",
    "    else:\n",
    "        loss = lovasz_hinge_flat(*flatten_binary_scores(logits, labels, ignore))\n",
    "    return loss\n",
    "\n",
    "\n",
    "def lovasz_hinge_flat(logits, labels):\n",
    "    \"\"\"\n",
    "    Binary Lovasz hinge loss\n",
    "      logits: [P] Variable, logits at each prediction (between -\\infty and +\\infty)\n",
    "      labels: [P] Tensor, binary ground truth labels (0 or 1)\n",
    "      ignore: label to ignore\n",
    "    \"\"\"\n",
    "\n",
    "    def compute_loss():\n",
    "        labelsf = tf.cast(labels, logits.dtype)\n",
    "        signs = 2. * labelsf - 1.\n",
    "        errors = 1. - logits * tf.stop_gradient(signs)\n",
    "        errors_sorted, perm = tf.nn.top_k(errors, k=tf.shape(errors)[0], name=\"descending_sort\")\n",
    "        gt_sorted = tf.gather(labelsf, perm)\n",
    "        grad = lovasz_grad(gt_sorted)\n",
    "        loss = tf.tensordot(tf.nn.relu(errors_sorted), tf.stop_gradient(grad), 1, name=\"loss_non_void\")\n",
    "        return loss\n",
    "\n",
    "    # deal with the void prediction case (only void pixels)\n",
    "    loss = tf.cond(tf.equal(tf.shape(logits)[0], 0),\n",
    "                   lambda: tf.reduce_sum(logits) * 0.,\n",
    "                   compute_loss,\n",
    "                   strict=True,\n",
    "                   name=\"loss\"\n",
    "                   )\n",
    "    return loss\n",
    "\n",
    "\n",
    "def flatten_binary_scores(scores, labels, ignore=None):\n",
    "    \"\"\"\n",
    "    Flattens predictions in the batch (binary case)\n",
    "    Remove labels equal to 'ignore'\n",
    "    \"\"\"\n",
    "    scores = tf.reshape(scores, (-1,))\n",
    "    labels = tf.reshape(labels, (-1,))\n",
    "    if ignore is None:\n",
    "        return scores, labels\n",
    "    valid = tf.not_equal(labels, ignore)\n",
    "    vscores = tf.boolean_mask(scores, valid, name='valid_scores')\n",
    "    vlabels = tf.boolean_mask(labels, valid, name='valid_labels')\n",
    "    return vscores, vlabels\n",
    "\n",
    "def lovasz_loss(y_true, y_pred):\n",
    "    y_true, y_pred = K.cast(K.squeeze(y_true, -1), 'int32'), K.cast(K.squeeze(y_pred, -1), 'float32')\n",
    "    #logits = K.log(y_pred / (1. - y_pred))\n",
    "    logits = y_pred #Jiaxin\n",
    "    loss = lovasz_hinge(logits, y_true, per_image = True, ignore = None)\n",
    "    return loss"
   ]
  },
  {
   "cell_type": "code",
   "execution_count": 17,
   "metadata": {
    "_uuid": "072ab621d38cc93d26998f391357cb6efc791600"
   },
   "outputs": [
    {
     "name": "stdout",
     "output_type": "stream",
     "text": [
      "(6400, 101, 101, 1)\n",
      "(800, 101, 101, 1)\n"
     ]
    }
   ],
   "source": [
    "#Data augmentation\n",
    "x_train = np.append(x_train, [np.fliplr(x) for x in x_train], axis=0)\n",
    "y_train = np.append(y_train, [np.fliplr(x) for x in y_train], axis=0)\n",
    "print(x_train.shape)\n",
    "print(y_valid.shape)"
   ]
  },
  {
   "cell_type": "code",
   "execution_count": 37,
   "metadata": {
    "_uuid": "30622932f68888e895a9b8cac91810a1bb3c5e75"
   },
   "outputs": [],
   "source": [
    "# model\n",
    "gpu_count = 4\n",
    "with tf.device(\"/cpu:0\"):\n",
    "    input_layer = Input((img_size_target, img_size_target, 1))\n",
    "    #input_features = Input((n_features, ), name='feat')\n",
    "    output_layer = build_model(input_layer, 16, 0.5)\n",
    "\n",
    "model = Model(input_layer, output_layer)\n",
    "\n",
    "if gpu_count > 1:\n",
    "    base_model = model\n",
    "    model = multi_gpu_model(model, gpus=gpu_count)\n",
    "\n",
    "#c = optimizers.SGD(lr = 0.01)\n",
    "#c = optimizers.adam(lr = 0.01)\n",
    "c = optimizers.Nadam(lr = 0.005)\n",
    "#c = Eve(lr = 0.001)\n",
    "model.compile(loss=\"binary_crossentropy\", optimizer=c, metrics=[my_iou_metric])\n",
    "#model.compile(loss=[focal_loss(alpha=.25, gamma=2)], optimizer=c, metrics=[my_iou_metric])\n",
    "\n",
    "#model.summary()"
   ]
  },
  {
   "cell_type": "code",
   "execution_count": 38,
   "metadata": {
    "_uuid": "41699081be465c14e193ffad4fd00bd56840f156"
   },
   "outputs": [
    {
     "name": "stdout",
     "output_type": "stream",
     "text": [
      "Train on 6400 samples, validate on 800 samples\n",
      "Epoch 1/100\n",
      "6400/6400 [==============================] - 73s 11ms/step - loss: 0.5294 - my_iou_metric: 0.1685 - val_loss: 0.5023 - val_my_iou_metric: 0.1870\n",
      "Epoch 00001: my_iou_metric improved from -inf to 0.16848, saving model to ./models/Unet_resnet_v7.model\n",
      "Epoch 2/100\n",
      "6400/6400 [==============================] - 28s 4ms/step - loss: 0.4072 - my_iou_metric: 0.3638 - val_loss: 0.8749 - val_my_iou_metric: 0.3909\n",
      "Epoch 00002: my_iou_metric improved from 0.16848 to 0.36378, saving model to ./models/Unet_resnet_v7.model\n",
      "Epoch 3/100\n",
      "6400/6400 [==============================] - 27s 4ms/step - loss: 0.3780 - my_iou_metric: 0.4152 - val_loss: 0.4131 - val_my_iou_metric: 0.2956\n",
      "Epoch 00003: my_iou_metric improved from 0.36378 to 0.41522, saving model to ./models/Unet_resnet_v7.model\n",
      "Epoch 4/100\n",
      "6400/6400 [==============================] - 27s 4ms/step - loss: 0.3504 - my_iou_metric: 0.4810 - val_loss: 0.3763 - val_my_iou_metric: 0.4203\n",
      "Epoch 00004: my_iou_metric improved from 0.41522 to 0.48098, saving model to ./models/Unet_resnet_v7.model\n",
      "Epoch 5/100\n",
      "6400/6400 [==============================] - 27s 4ms/step - loss: 0.3298 - my_iou_metric: 0.5039 - val_loss: 0.5606 - val_my_iou_metric: 0.3426\n",
      "Epoch 00005: my_iou_metric improved from 0.48098 to 0.50387, saving model to ./models/Unet_resnet_v7.model\n",
      "Epoch 6/100\n",
      "6400/6400 [==============================] - 27s 4ms/step - loss: 0.3264 - my_iou_metric: 0.4987 - val_loss: 0.4225 - val_my_iou_metric: 0.3420\n",
      "Epoch 00006: my_iou_metric did not improve\n",
      "Epoch 7/100\n",
      "6400/6400 [==============================] - 27s 4ms/step - loss: 0.2952 - my_iou_metric: 0.5234 - val_loss: 0.3454 - val_my_iou_metric: 0.4519\n",
      "Epoch 00007: my_iou_metric improved from 0.50387 to 0.52336, saving model to ./models/Unet_resnet_v7.model\n",
      "Epoch 8/100\n",
      "6400/6400 [==============================] - 27s 4ms/step - loss: 0.2921 - my_iou_metric: 0.5177 - val_loss: 0.4562 - val_my_iou_metric: 0.3185\n",
      "Epoch 00008: my_iou_metric did not improve\n",
      "Epoch 9/100\n",
      "6400/6400 [==============================] - 27s 4ms/step - loss: 0.2738 - my_iou_metric: 0.5253 - val_loss: 0.3351 - val_my_iou_metric: 0.4435\n",
      "Epoch 00009: my_iou_metric improved from 0.52336 to 0.52534, saving model to ./models/Unet_resnet_v7.model\n",
      "Epoch 10/100\n",
      "6400/6400 [==============================] - 27s 4ms/step - loss: 0.2650 - my_iou_metric: 0.5316 - val_loss: 0.4243 - val_my_iou_metric: 0.3468\n",
      "Epoch 00010: my_iou_metric improved from 0.52534 to 0.53158, saving model to ./models/Unet_resnet_v7.model\n",
      "Epoch 11/100\n",
      "6400/6400 [==============================] - 27s 4ms/step - loss: 0.2617 - my_iou_metric: 0.5402 - val_loss: 0.2870 - val_my_iou_metric: 0.5671\n",
      "Epoch 00011: my_iou_metric improved from 0.53158 to 0.54016, saving model to ./models/Unet_resnet_v7.model\n",
      "Epoch 12/100\n",
      "6400/6400 [==============================] - 28s 4ms/step - loss: 0.2728 - my_iou_metric: 0.5351 - val_loss: 0.5139 - val_my_iou_metric: 0.2317\n",
      "Epoch 00012: my_iou_metric did not improve\n",
      "Epoch 13/100\n",
      "6400/6400 [==============================] - 27s 4ms/step - loss: 0.2389 - my_iou_metric: 0.5538 - val_loss: 0.3239 - val_my_iou_metric: 0.4994\n",
      "Epoch 00013: my_iou_metric improved from 0.54016 to 0.55381, saving model to ./models/Unet_resnet_v7.model\n",
      "Epoch 14/100\n",
      "6400/6400 [==============================] - 28s 4ms/step - loss: 0.2359 - my_iou_metric: 0.5503 - val_loss: 0.4462 - val_my_iou_metric: 0.3181\n",
      "Epoch 00014: my_iou_metric did not improve\n",
      "Epoch 15/100\n",
      "6400/6400 [==============================] - 27s 4ms/step - loss: 0.2283 - my_iou_metric: 0.5573 - val_loss: 0.3070 - val_my_iou_metric: 0.5580\n",
      "Epoch 00015: my_iou_metric improved from 0.55381 to 0.55727, saving model to ./models/Unet_resnet_v7.model\n",
      "Epoch 16/100\n",
      "6400/6400 [==============================] - 28s 4ms/step - loss: 0.2185 - my_iou_metric: 0.5763 - val_loss: 0.2771 - val_my_iou_metric: 0.5246\n",
      "Epoch 00016: my_iou_metric improved from 0.55727 to 0.57634, saving model to ./models/Unet_resnet_v7.model\n",
      "Epoch 17/100\n",
      "6400/6400 [==============================] - 28s 4ms/step - loss: 0.2144 - my_iou_metric: 0.5758 - val_loss: 0.2284 - val_my_iou_metric: 0.6281\n",
      "Epoch 00017: my_iou_metric did not improve\n",
      "Epoch 18/100\n",
      "6400/6400 [==============================] - 27s 4ms/step - loss: 0.2047 - my_iou_metric: 0.5892 - val_loss: 0.2067 - val_my_iou_metric: 0.6422\n",
      "Epoch 00018: my_iou_metric improved from 0.57634 to 0.58919, saving model to ./models/Unet_resnet_v7.model\n",
      "Epoch 19/100\n",
      "6400/6400 [==============================] - 28s 4ms/step - loss: 0.2076 - my_iou_metric: 0.5819 - val_loss: 0.2170 - val_my_iou_metric: 0.5984\n",
      "Epoch 00019: my_iou_metric did not improve\n",
      "Epoch 20/100\n",
      "6400/6400 [==============================] - 27s 4ms/step - loss: 0.2013 - my_iou_metric: 0.6002 - val_loss: 0.6485 - val_my_iou_metric: 0.4381\n",
      "Epoch 00020: my_iou_metric improved from 0.58919 to 0.60019, saving model to ./models/Unet_resnet_v7.model\n",
      "Epoch 21/100\n",
      "6400/6400 [==============================] - 27s 4ms/step - loss: 0.1884 - my_iou_metric: 0.6070 - val_loss: 0.3902 - val_my_iou_metric: 0.5195\n",
      "Epoch 00021: my_iou_metric improved from 0.60019 to 0.60698, saving model to ./models/Unet_resnet_v7.model\n",
      "Epoch 22/100\n",
      "6400/6400 [==============================] - 27s 4ms/step - loss: 0.2028 - my_iou_metric: 0.5953 - val_loss: 0.2100 - val_my_iou_metric: 0.6063\n",
      "Epoch 00022: my_iou_metric did not improve\n",
      "Epoch 23/100\n",
      "6400/6400 [==============================] - 27s 4ms/step - loss: 0.1832 - my_iou_metric: 0.6146 - val_loss: 0.2496 - val_my_iou_metric: 0.5665\n",
      "Epoch 00023: my_iou_metric improved from 0.60698 to 0.61458, saving model to ./models/Unet_resnet_v7.model\n",
      "Epoch 24/100\n",
      "6400/6400 [==============================] - 28s 4ms/step - loss: 0.1798 - my_iou_metric: 0.6300 - val_loss: 0.2094 - val_my_iou_metric: 0.6228\n",
      "Epoch 00024: my_iou_metric improved from 0.61458 to 0.62997, saving model to ./models/Unet_resnet_v7.model\n",
      "Epoch 25/100\n",
      "6400/6400 [==============================] - 27s 4ms/step - loss: 0.1771 - my_iou_metric: 0.6270 - val_loss: 0.3113 - val_my_iou_metric: 0.5255\n",
      "Epoch 00025: my_iou_metric did not improve\n",
      "Epoch 26/100\n",
      "6400/6400 [==============================] - 28s 4ms/step - loss: 0.1716 - my_iou_metric: 0.6377 - val_loss: 0.2045 - val_my_iou_metric: 0.6205\n",
      "Epoch 00026: my_iou_metric improved from 0.62997 to 0.63773, saving model to ./models/Unet_resnet_v7.model\n",
      "Epoch 27/100\n",
      "6400/6400 [==============================] - 27s 4ms/step - loss: 0.1665 - my_iou_metric: 0.6432 - val_loss: 0.2353 - val_my_iou_metric: 0.6129\n",
      "Epoch 00027: my_iou_metric improved from 0.63773 to 0.64316, saving model to ./models/Unet_resnet_v7.model\n",
      "Epoch 28/100\n",
      "6400/6400 [==============================] - 27s 4ms/step - loss: 0.1601 - my_iou_metric: 0.6483 - val_loss: 0.2696 - val_my_iou_metric: 0.5232\n",
      "Epoch 00028: my_iou_metric improved from 0.64316 to 0.64833, saving model to ./models/Unet_resnet_v7.model\n",
      "Epoch 29/100\n",
      "6400/6400 [==============================] - 27s 4ms/step - loss: 0.1671 - my_iou_metric: 0.6473 - val_loss: 0.2069 - val_my_iou_metric: 0.5926\n",
      "Epoch 00029: my_iou_metric did not improve\n",
      "Epoch 30/100\n",
      "6400/6400 [==============================] - 27s 4ms/step - loss: 0.1559 - my_iou_metric: 0.6580 - val_loss: 0.2218 - val_my_iou_metric: 0.6369\n",
      "Epoch 00030: my_iou_metric improved from 0.64833 to 0.65800, saving model to ./models/Unet_resnet_v7.model\n",
      "Epoch 31/100\n",
      "6400/6400 [==============================] - 27s 4ms/step - loss: 0.1635 - my_iou_metric: 0.6521 - val_loss: 0.1840 - val_my_iou_metric: 0.6720\n",
      "Epoch 00031: my_iou_metric did not improve\n",
      "Epoch 32/100\n",
      "6400/6400 [==============================] - 27s 4ms/step - loss: 0.1536 - my_iou_metric: 0.6683 - val_loss: 0.1707 - val_my_iou_metric: 0.6930\n",
      "Epoch 00032: my_iou_metric improved from 0.65800 to 0.66833, saving model to ./models/Unet_resnet_v7.model\n",
      "Epoch 33/100\n",
      "6400/6400 [==============================] - 27s 4ms/step - loss: 0.1480 - my_iou_metric: 0.6719 - val_loss: 0.1895 - val_my_iou_metric: 0.6755\n",
      "Epoch 00033: my_iou_metric improved from 0.66833 to 0.67191, saving model to ./models/Unet_resnet_v7.model\n",
      "Epoch 34/100\n"
     ]
    },
    {
     "name": "stdout",
     "output_type": "stream",
     "text": [
      "6400/6400 [==============================] - 27s 4ms/step - loss: 0.1419 - my_iou_metric: 0.6822 - val_loss: 0.1556 - val_my_iou_metric: 0.7114\n",
      "Epoch 00034: my_iou_metric improved from 0.67191 to 0.68222, saving model to ./models/Unet_resnet_v7.model\n",
      "Epoch 35/100\n",
      "6400/6400 [==============================] - 27s 4ms/step - loss: 0.1417 - my_iou_metric: 0.6833 - val_loss: 0.1943 - val_my_iou_metric: 0.6824\n",
      "Epoch 00035: my_iou_metric improved from 0.68222 to 0.68331, saving model to ./models/Unet_resnet_v7.model\n",
      "Epoch 36/100\n",
      "6400/6400 [==============================] - 27s 4ms/step - loss: 0.1480 - my_iou_metric: 0.6735 - val_loss: 0.1910 - val_my_iou_metric: 0.7085\n",
      "Epoch 00036: my_iou_metric did not improve\n",
      "Epoch 37/100\n",
      "6400/6400 [==============================] - 27s 4ms/step - loss: 0.1410 - my_iou_metric: 0.6932 - val_loss: 0.1708 - val_my_iou_metric: 0.7104\n",
      "Epoch 00037: my_iou_metric improved from 0.68331 to 0.69319, saving model to ./models/Unet_resnet_v7.model\n",
      "Epoch 38/100\n",
      "6400/6400 [==============================] - 28s 4ms/step - loss: 0.1441 - my_iou_metric: 0.6881 - val_loss: 0.1850 - val_my_iou_metric: 0.6987\n",
      "Epoch 00038: my_iou_metric did not improve\n",
      "Epoch 39/100\n",
      "6400/6400 [==============================] - 27s 4ms/step - loss: 0.1326 - my_iou_metric: 0.6950 - val_loss: 0.1612 - val_my_iou_metric: 0.6979\n",
      "Epoch 00039: my_iou_metric improved from 0.69319 to 0.69500, saving model to ./models/Unet_resnet_v7.model\n",
      "Epoch 40/100\n",
      "6400/6400 [==============================] - 28s 4ms/step - loss: 0.1309 - my_iou_metric: 0.7029 - val_loss: 0.2145 - val_my_iou_metric: 0.6225\n",
      "Epoch 00040: my_iou_metric improved from 0.69500 to 0.70294, saving model to ./models/Unet_resnet_v7.model\n",
      "Epoch 41/100\n",
      "6400/6400 [==============================] - 27s 4ms/step - loss: 0.1306 - my_iou_metric: 0.7064 - val_loss: 0.1605 - val_my_iou_metric: 0.7310\n",
      "Epoch 00041: my_iou_metric improved from 0.70294 to 0.70639, saving model to ./models/Unet_resnet_v7.model\n",
      "Epoch 42/100\n",
      "6400/6400 [==============================] - 27s 4ms/step - loss: 0.1253 - my_iou_metric: 0.7061 - val_loss: 0.1559 - val_my_iou_metric: 0.6911\n",
      "Epoch 00042: my_iou_metric did not improve\n",
      "Epoch 43/100\n",
      "6400/6400 [==============================] - 27s 4ms/step - loss: 0.1239 - my_iou_metric: 0.7101 - val_loss: 0.1893 - val_my_iou_metric: 0.6854\n",
      "Epoch 00043: my_iou_metric improved from 0.70639 to 0.71008, saving model to ./models/Unet_resnet_v7.model\n",
      "Epoch 44/100\n",
      "6400/6400 [==============================] - 27s 4ms/step - loss: 0.1242 - my_iou_metric: 0.7151 - val_loss: 0.1481 - val_my_iou_metric: 0.7166\n",
      "Epoch 00044: my_iou_metric improved from 0.71008 to 0.71506, saving model to ./models/Unet_resnet_v7.model\n",
      "Epoch 45/100\n",
      "6400/6400 [==============================] - 27s 4ms/step - loss: 0.1218 - my_iou_metric: 0.7123 - val_loss: 0.1668 - val_my_iou_metric: 0.7145\n",
      "Epoch 00045: my_iou_metric did not improve\n",
      "Epoch 46/100\n",
      "6400/6400 [==============================] - 28s 4ms/step - loss: 0.1199 - my_iou_metric: 0.7190 - val_loss: 0.1540 - val_my_iou_metric: 0.7126\n",
      "Epoch 00046: my_iou_metric improved from 0.71506 to 0.71905, saving model to ./models/Unet_resnet_v7.model\n",
      "Epoch 47/100\n",
      "6400/6400 [==============================] - 27s 4ms/step - loss: 0.1170 - my_iou_metric: 0.7239 - val_loss: 0.1535 - val_my_iou_metric: 0.7404\n",
      "Epoch 00047: my_iou_metric improved from 0.71905 to 0.72391, saving model to ./models/Unet_resnet_v7.model\n",
      "Epoch 48/100\n",
      "6400/6400 [==============================] - 27s 4ms/step - loss: 0.1145 - my_iou_metric: 0.7249 - val_loss: 0.1556 - val_my_iou_metric: 0.7249\n",
      "Epoch 00048: my_iou_metric improved from 0.72391 to 0.72488, saving model to ./models/Unet_resnet_v7.model\n",
      "Epoch 49/100\n",
      "6400/6400 [==============================] - 27s 4ms/step - loss: 0.1145 - my_iou_metric: 0.7265 - val_loss: 0.1762 - val_my_iou_metric: 0.7262\n",
      "Epoch 00049: my_iou_metric improved from 0.72488 to 0.72645, saving model to ./models/Unet_resnet_v7.model\n",
      "Epoch 50/100\n",
      "6400/6400 [==============================] - 27s 4ms/step - loss: 0.1126 - my_iou_metric: 0.7250 - val_loss: 0.1568 - val_my_iou_metric: 0.7281\n",
      "Epoch 00050: my_iou_metric did not improve\n",
      "Epoch 51/100\n",
      "6400/6400 [==============================] - 27s 4ms/step - loss: 0.1126 - my_iou_metric: 0.7305 - val_loss: 0.1617 - val_my_iou_metric: 0.7369\n",
      "Epoch 00051: my_iou_metric improved from 0.72645 to 0.73047, saving model to ./models/Unet_resnet_v7.model\n",
      "Epoch 52/100\n",
      "6400/6400 [==============================] - 27s 4ms/step - loss: 0.1137 - my_iou_metric: 0.7273 - val_loss: 0.1939 - val_my_iou_metric: 0.6951\n",
      "Epoch 00052: my_iou_metric did not improve\n",
      "Epoch 53/100\n",
      "6400/6400 [==============================] - 27s 4ms/step - loss: 0.1091 - my_iou_metric: 0.7374 - val_loss: 0.1711 - val_my_iou_metric: 0.7136\n",
      "Epoch 00053: my_iou_metric improved from 0.73047 to 0.73744, saving model to ./models/Unet_resnet_v7.model\n",
      "Epoch 54/100\n",
      "6400/6400 [==============================] - 27s 4ms/step - loss: 0.1071 - my_iou_metric: 0.7377 - val_loss: 0.4318 - val_my_iou_metric: 0.5516\n",
      "Epoch 00054: my_iou_metric improved from 0.73744 to 0.73775, saving model to ./models/Unet_resnet_v7.model\n",
      "Epoch 55/100\n",
      "6400/6400 [==============================] - 27s 4ms/step - loss: 0.1053 - my_iou_metric: 0.7313 - val_loss: 0.1798 - val_my_iou_metric: 0.7155\n",
      "Epoch 00055: my_iou_metric did not improve\n",
      "Epoch 56/100\n",
      "6400/6400 [==============================] - 28s 4ms/step - loss: 0.1030 - my_iou_metric: 0.7406 - val_loss: 0.3019 - val_my_iou_metric: 0.5991\n",
      "Epoch 00056: my_iou_metric improved from 0.73775 to 0.74064, saving model to ./models/Unet_resnet_v7.model\n",
      "Epoch 57/100\n",
      "6400/6400 [==============================] - 27s 4ms/step - loss: 0.1897 - my_iou_metric: 0.6469 - val_loss: 2.3751 - val_my_iou_metric: 0.2395\n",
      "Epoch 00057: my_iou_metric did not improve\n",
      "Epoch 58/100\n",
      "6400/6400 [==============================] - 27s 4ms/step - loss: 0.1370 - my_iou_metric: 0.6973 - val_loss: 0.1689 - val_my_iou_metric: 0.6985\n",
      "Epoch 00058: my_iou_metric did not improve\n",
      "Epoch 59/100\n",
      "6400/6400 [==============================] - 28s 4ms/step - loss: 0.1142 - my_iou_metric: 0.7142 - val_loss: 0.1700 - val_my_iou_metric: 0.7137\n",
      "Epoch 00059: my_iou_metric did not improve\n",
      "Epoch 60/100\n",
      "6400/6400 [==============================] - 27s 4ms/step - loss: 0.1047 - my_iou_metric: 0.7246 - val_loss: 0.1528 - val_my_iou_metric: 0.7155\n",
      "Epoch 00060: my_iou_metric did not improve\n",
      "Epoch 61/100\n",
      "6400/6400 [==============================] - 27s 4ms/step - loss: 0.1038 - my_iou_metric: 0.7330 - val_loss: 0.1522 - val_my_iou_metric: 0.7219\n",
      "Epoch 00061: my_iou_metric did not improve\n",
      "\n",
      "Epoch 00061: ReduceLROnPlateau reducing learning rate to 0.0024999999441206455.\n",
      "Epoch 62/100\n",
      "6400/6400 [==============================] - 28s 4ms/step - loss: 0.0889 - my_iou_metric: 0.7529 - val_loss: 0.1455 - val_my_iou_metric: 0.7289\n",
      "Epoch 00062: my_iou_metric improved from 0.74064 to 0.75286, saving model to ./models/Unet_resnet_v7.model\n",
      "Epoch 63/100\n",
      "6400/6400 [==============================] - 28s 4ms/step - loss: 0.0854 - my_iou_metric: 0.7561 - val_loss: 0.1524 - val_my_iou_metric: 0.7439\n",
      "Epoch 00063: my_iou_metric improved from 0.75286 to 0.75608, saving model to ./models/Unet_resnet_v7.model\n",
      "Epoch 64/100\n",
      "6400/6400 [==============================] - 27s 4ms/step - loss: 0.0851 - my_iou_metric: 0.7553 - val_loss: 0.1442 - val_my_iou_metric: 0.7466\n",
      "Epoch 00064: my_iou_metric did not improve\n",
      "Epoch 65/100\n",
      "6400/6400 [==============================] - 27s 4ms/step - loss: 0.0799 - my_iou_metric: 0.7601 - val_loss: 0.1419 - val_my_iou_metric: 0.7477\n",
      "Epoch 00065: my_iou_metric improved from 0.75608 to 0.76009, saving model to ./models/Unet_resnet_v7.model\n",
      "Epoch 66/100\n",
      "6400/6400 [==============================] - 28s 4ms/step - loss: 0.0813 - my_iou_metric: 0.7594 - val_loss: 0.1711 - val_my_iou_metric: 0.7419\n",
      "Epoch 00066: my_iou_metric did not improve\n",
      "Epoch 67/100\n",
      "6400/6400 [==============================] - 27s 4ms/step - loss: 0.0803 - my_iou_metric: 0.7645 - val_loss: 0.1403 - val_my_iou_metric: 0.7564\n",
      "Epoch 00067: my_iou_metric improved from 0.76009 to 0.76447, saving model to ./models/Unet_resnet_v7.model\n",
      "Epoch 68/100\n"
     ]
    },
    {
     "name": "stdout",
     "output_type": "stream",
     "text": [
      "6400/6400 [==============================] - 27s 4ms/step - loss: 0.0797 - my_iou_metric: 0.7646 - val_loss: 0.1533 - val_my_iou_metric: 0.7512\n",
      "Epoch 00068: my_iou_metric improved from 0.76447 to 0.76463, saving model to ./models/Unet_resnet_v7.model\n",
      "Epoch 69/100\n",
      "6400/6400 [==============================] - 27s 4ms/step - loss: 0.0782 - my_iou_metric: 0.7710 - val_loss: 0.1658 - val_my_iou_metric: 0.7515\n",
      "Epoch 00069: my_iou_metric improved from 0.76463 to 0.77103, saving model to ./models/Unet_resnet_v7.model\n",
      "Epoch 70/100\n",
      "6400/6400 [==============================] - 27s 4ms/step - loss: 0.0774 - my_iou_metric: 0.7662 - val_loss: 0.1635 - val_my_iou_metric: 0.7581\n",
      "Epoch 00070: my_iou_metric did not improve\n",
      "Epoch 71/100\n",
      "6400/6400 [==============================] - 27s 4ms/step - loss: 0.0756 - my_iou_metric: 0.7728 - val_loss: 0.1546 - val_my_iou_metric: 0.7608\n",
      "Epoch 00071: my_iou_metric improved from 0.77103 to 0.77280, saving model to ./models/Unet_resnet_v7.model\n",
      "Epoch 72/100\n",
      "6400/6400 [==============================] - 27s 4ms/step - loss: 0.0750 - my_iou_metric: 0.7713 - val_loss: 0.1647 - val_my_iou_metric: 0.7430\n",
      "Epoch 00072: my_iou_metric did not improve\n",
      "Epoch 73/100\n",
      "6400/6400 [==============================] - 27s 4ms/step - loss: 0.0752 - my_iou_metric: 0.7745 - val_loss: 0.1718 - val_my_iou_metric: 0.7409\n",
      "Epoch 00073: my_iou_metric improved from 0.77280 to 0.77450, saving model to ./models/Unet_resnet_v7.model\n",
      "Epoch 74/100\n",
      "6400/6400 [==============================] - 27s 4ms/step - loss: 0.0676 - my_iou_metric: 0.7769 - val_loss: 0.1666 - val_my_iou_metric: 0.7514\n",
      "Epoch 00074: my_iou_metric improved from 0.77450 to 0.77694, saving model to ./models/Unet_resnet_v7.model\n",
      "Epoch 75/100\n",
      "6400/6400 [==============================] - 27s 4ms/step - loss: 0.0710 - my_iou_metric: 0.7763 - val_loss: 0.1622 - val_my_iou_metric: 0.7598\n",
      "Epoch 00075: my_iou_metric did not improve\n",
      "Epoch 76/100\n",
      "6400/6400 [==============================] - 27s 4ms/step - loss: 0.0700 - my_iou_metric: 0.7818 - val_loss: 0.2013 - val_my_iou_metric: 0.7343\n",
      "Epoch 00076: my_iou_metric improved from 0.77694 to 0.78177, saving model to ./models/Unet_resnet_v7.model\n",
      "Epoch 77/100\n",
      "6400/6400 [==============================] - 27s 4ms/step - loss: 0.0742 - my_iou_metric: 0.7769 - val_loss: 0.1627 - val_my_iou_metric: 0.7387\n",
      "Epoch 00077: my_iou_metric did not improve\n",
      "Epoch 78/100\n",
      "6400/6400 [==============================] - 28s 4ms/step - loss: 0.0704 - my_iou_metric: 0.7780 - val_loss: 0.1657 - val_my_iou_metric: 0.7590\n",
      "Epoch 00078: my_iou_metric did not improve\n",
      "Epoch 79/100\n",
      "6400/6400 [==============================] - 28s 4ms/step - loss: 0.0688 - my_iou_metric: 0.7807 - val_loss: 0.1601 - val_my_iou_metric: 0.7626\n",
      "Epoch 00079: my_iou_metric did not improve\n",
      "Epoch 80/100\n",
      "6400/6400 [==============================] - 27s 4ms/step - loss: 0.0702 - my_iou_metric: 0.7792 - val_loss: 0.1956 - val_my_iou_metric: 0.7449\n",
      "Epoch 00080: my_iou_metric did not improve\n",
      "Epoch 81/100\n",
      "6400/6400 [==============================] - 27s 4ms/step - loss: 0.0683 - my_iou_metric: 0.7874 - val_loss: 0.1644 - val_my_iou_metric: 0.7595\n",
      "Epoch 00081: my_iou_metric improved from 0.78177 to 0.78741, saving model to ./models/Unet_resnet_v7.model\n",
      "Epoch 82/100\n",
      "6400/6400 [==============================] - 27s 4ms/step - loss: 0.0664 - my_iou_metric: 0.7820 - val_loss: 0.1610 - val_my_iou_metric: 0.7708\n",
      "Epoch 00082: my_iou_metric did not improve\n",
      "Epoch 83/100\n",
      "6400/6400 [==============================] - 27s 4ms/step - loss: 0.0617 - my_iou_metric: 0.7924 - val_loss: 0.1706 - val_my_iou_metric: 0.7553\n",
      "Epoch 00083: my_iou_metric improved from 0.78741 to 0.79237, saving model to ./models/Unet_resnet_v7.model\n",
      "Epoch 84/100\n",
      "6400/6400 [==============================] - 27s 4ms/step - loss: 0.0630 - my_iou_metric: 0.7867 - val_loss: 0.1890 - val_my_iou_metric: 0.7472\n",
      "Epoch 00084: my_iou_metric did not improve\n",
      "Epoch 85/100\n",
      "6400/6400 [==============================] - 28s 4ms/step - loss: 0.0636 - my_iou_metric: 0.7890 - val_loss: 0.2207 - val_my_iou_metric: 0.7366\n",
      "Epoch 00085: my_iou_metric did not improve\n",
      "Epoch 86/100\n",
      "6400/6400 [==============================] - 27s 4ms/step - loss: 0.0621 - my_iou_metric: 0.7878 - val_loss: 0.2073 - val_my_iou_metric: 0.7413\n",
      "Epoch 00086: my_iou_metric did not improve\n",
      "Epoch 87/100\n",
      "6400/6400 [==============================] - 27s 4ms/step - loss: 0.0603 - my_iou_metric: 0.7894 - val_loss: 0.2028 - val_my_iou_metric: 0.7555\n",
      "Epoch 00087: my_iou_metric did not improve\n",
      "Epoch 88/100\n",
      "6400/6400 [==============================] - 27s 4ms/step - loss: 0.0597 - my_iou_metric: 0.7971 - val_loss: 0.1925 - val_my_iou_metric: 0.7576\n",
      "Epoch 00088: my_iou_metric improved from 0.79237 to 0.79713, saving model to ./models/Unet_resnet_v7.model\n",
      "Epoch 89/100\n",
      "6400/6400 [==============================] - 28s 4ms/step - loss: 0.0608 - my_iou_metric: 0.7956 - val_loss: 0.1779 - val_my_iou_metric: 0.7474\n",
      "Epoch 00089: my_iou_metric did not improve\n",
      "Epoch 90/100\n",
      "6400/6400 [==============================] - 27s 4ms/step - loss: 0.0611 - my_iou_metric: 0.7930 - val_loss: 0.1694 - val_my_iou_metric: 0.7586\n",
      "Epoch 00090: my_iou_metric did not improve\n",
      "Epoch 91/100\n",
      "6400/6400 [==============================] - 27s 4ms/step - loss: 0.0598 - my_iou_metric: 0.7948 - val_loss: 0.1666 - val_my_iou_metric: 0.7594\n",
      "Epoch 00091: my_iou_metric did not improve\n",
      "Epoch 92/100\n",
      "6400/6400 [==============================] - 27s 4ms/step - loss: 0.0578 - my_iou_metric: 0.7962 - val_loss: 0.1842 - val_my_iou_metric: 0.7604\n",
      "Epoch 00092: my_iou_metric did not improve\n",
      "Epoch 93/100\n",
      "6400/6400 [==============================] - 28s 4ms/step - loss: 0.0565 - my_iou_metric: 0.8055 - val_loss: 0.1956 - val_my_iou_metric: 0.7638\n",
      "Epoch 00093: my_iou_metric improved from 0.79713 to 0.80552, saving model to ./models/Unet_resnet_v7.model\n",
      "Epoch 94/100\n",
      "6400/6400 [==============================] - 27s 4ms/step - loss: 0.0592 - my_iou_metric: 0.7915 - val_loss: 0.1842 - val_my_iou_metric: 0.7559\n",
      "Epoch 00094: my_iou_metric did not improve\n",
      "Epoch 95/100\n",
      "6400/6400 [==============================] - 27s 4ms/step - loss: 0.0570 - my_iou_metric: 0.7958 - val_loss: 0.1763 - val_my_iou_metric: 0.7508\n",
      "Epoch 00095: my_iou_metric did not improve\n",
      "Epoch 96/100\n",
      "6400/6400 [==============================] - 27s 4ms/step - loss: 0.0570 - my_iou_metric: 0.8021 - val_loss: 0.1770 - val_my_iou_metric: 0.7591\n",
      "Epoch 00096: my_iou_metric did not improve\n",
      "Epoch 97/100\n",
      "6400/6400 [==============================] - 27s 4ms/step - loss: 0.0551 - my_iou_metric: 0.8031 - val_loss: 0.1835 - val_my_iou_metric: 0.7676\n",
      "Epoch 00097: my_iou_metric did not improve\n",
      "Epoch 98/100\n",
      "6400/6400 [==============================] - 27s 4ms/step - loss: 0.0537 - my_iou_metric: 0.8025 - val_loss: 0.2112 - val_my_iou_metric: 0.7501\n",
      "Epoch 00098: my_iou_metric did not improve\n",
      "\n",
      "Epoch 00098: ReduceLROnPlateau reducing learning rate to 0.0012499999720603228.\n",
      "Epoch 99/100\n",
      "6400/6400 [==============================] - 27s 4ms/step - loss: 0.0500 - my_iou_metric: 0.8136 - val_loss: 0.1859 - val_my_iou_metric: 0.7732\n",
      "Epoch 00099: my_iou_metric improved from 0.80552 to 0.81361, saving model to ./models/Unet_resnet_v7.model\n",
      "Epoch 100/100\n",
      "6400/6400 [==============================] - 27s 4ms/step - loss: 0.0494 - my_iou_metric: 0.8109 - val_loss: 0.1939 - val_my_iou_metric: 0.7688\n",
      "Epoch 00100: my_iou_metric did not improve\n"
     ]
    }
   ],
   "source": [
    "#early_stopping = EarlyStopping(monitor='my_iou_metric', mode = 'max',patience=10, verbose=1)\n",
    "\n",
    "if gpu_count > 1:\n",
    "    model_checkpoint = MultiGPUCheckpointCallback(save_model_name, base_model, monitor='my_iou_metric', \n",
    "                                       mode = 'max', save_best_only=True, verbose=1)\n",
    "else:\n",
    "    model_checkpoint = ModelCheckpoint(save_model_name,monitor='my_iou_metric', \n",
    "                                       mode = 'max', save_best_only=True, verbose=1)\n",
    "\n",
    "reduce_lr = ReduceLROnPlateau(monitor='my_iou_metric', mode = 'max',factor=0.5, patience=5, min_lr=0.0001, verbose=1)\n",
    "batch_size = 32\n",
    "epochs = 100\n",
    "\n",
    "history = model.fit(x_train, y_train,\n",
    "                    validation_data=[x_valid, y_valid], \n",
    "                    epochs=epochs,\n",
    "                    batch_size=batch_size * gpu_count,\n",
    "                    callbacks=[ model_checkpoint, reduce_lr],\n",
    "                    verbose=1)"
   ]
  },
  {
   "cell_type": "code",
   "execution_count": 41,
   "metadata": {
    "_uuid": "513a3f8490ae5cbc61651458750ba369f99f6f62",
    "scrolled": true
   },
   "outputs": [
    {
     "name": "stderr",
     "output_type": "stream",
     "text": [
      "/usr/local/envs/py3env/lib/python3.5/site-packages/keras/engine/saving.py:292: UserWarning: No training configuration found in save file: the model was *not* compiled. Compile it manually.\n",
      "  warnings.warn('No training configuration found in save file: '\n"
     ]
    },
    {
     "ename": "ValueError",
     "evalue": "Can not squeeze dim[3], expected a dimension of 1, got 16 for 'loss_4/activation_91_loss/Squeeze_1' (op: 'Squeeze') with input shapes: [?,?,?,16].",
     "output_type": "error",
     "traceback": [
      "\u001b[0;31m---------------------------------------------------------------------------\u001b[0m",
      "\u001b[0;31mInvalidArgumentError\u001b[0m                      Traceback (most recent call last)",
      "\u001b[0;32m/usr/local/envs/py3env/lib/python3.5/site-packages/tensorflow/python/framework/ops.py\u001b[0m in \u001b[0;36m_create_c_op\u001b[0;34m(graph, node_def, inputs, control_inputs)\u001b[0m\n\u001b[1;32m   1566\u001b[0m   \u001b[0;32mtry\u001b[0m\u001b[0;34m:\u001b[0m\u001b[0;34m\u001b[0m\u001b[0m\n\u001b[0;32m-> 1567\u001b[0;31m     \u001b[0mc_op\u001b[0m \u001b[0;34m=\u001b[0m \u001b[0mc_api\u001b[0m\u001b[0;34m.\u001b[0m\u001b[0mTF_FinishOperation\u001b[0m\u001b[0;34m(\u001b[0m\u001b[0mop_desc\u001b[0m\u001b[0;34m)\u001b[0m\u001b[0;34m\u001b[0m\u001b[0m\n\u001b[0m\u001b[1;32m   1568\u001b[0m   \u001b[0;32mexcept\u001b[0m \u001b[0merrors\u001b[0m\u001b[0;34m.\u001b[0m\u001b[0mInvalidArgumentError\u001b[0m \u001b[0;32mas\u001b[0m \u001b[0me\u001b[0m\u001b[0;34m:\u001b[0m\u001b[0;34m\u001b[0m\u001b[0m\n",
      "\u001b[0;31mInvalidArgumentError\u001b[0m: Can not squeeze dim[3], expected a dimension of 1, got 16 for 'loss_4/activation_91_loss/Squeeze_1' (op: 'Squeeze') with input shapes: [?,?,?,16].",
      "\nDuring handling of the above exception, another exception occurred:\n",
      "\u001b[0;31mValueError\u001b[0m                                Traceback (most recent call last)",
      "\u001b[0;32m<ipython-input-41-952b23ec4a25>\u001b[0m in \u001b[0;36m<module>\u001b[0;34m()\u001b[0m\n\u001b[1;32m     16\u001b[0m \u001b[0;31m# lovasz_loss need input range (-∞，+∞), so cancel the last \"sigmoid\" activation\u001b[0m\u001b[0;34m\u001b[0m\u001b[0;34m\u001b[0m\u001b[0m\n\u001b[1;32m     17\u001b[0m \u001b[0;31m# Then the default threshod for pixel prediction is 0 instead of 0.5, as in my_iou_metric_2.\u001b[0m\u001b[0;34m\u001b[0m\u001b[0;34m\u001b[0m\u001b[0m\n\u001b[0;32m---> 18\u001b[0;31m \u001b[0mmodel\u001b[0m\u001b[0;34m.\u001b[0m\u001b[0mcompile\u001b[0m\u001b[0;34m(\u001b[0m\u001b[0mloss\u001b[0m\u001b[0;34m=\u001b[0m\u001b[0mlovasz_loss\u001b[0m\u001b[0;34m,\u001b[0m \u001b[0moptimizer\u001b[0m\u001b[0;34m=\u001b[0m\u001b[0mc\u001b[0m\u001b[0;34m,\u001b[0m \u001b[0mmetrics\u001b[0m\u001b[0;34m=\u001b[0m\u001b[0;34m[\u001b[0m\u001b[0mmy_iou_metric_2\u001b[0m\u001b[0;34m]\u001b[0m\u001b[0;34m)\u001b[0m\u001b[0;34m\u001b[0m\u001b[0m\n\u001b[0m\u001b[1;32m     19\u001b[0m \u001b[0;34m\u001b[0m\u001b[0m\n\u001b[1;32m     20\u001b[0m \u001b[0;31m#model.summary()\u001b[0m\u001b[0;34m\u001b[0m\u001b[0;34m\u001b[0m\u001b[0m\n",
      "\u001b[0;32m/usr/local/envs/py3env/lib/python3.5/site-packages/keras/engine/training.py\u001b[0m in \u001b[0;36mcompile\u001b[0;34m(self, optimizer, loss, metrics, loss_weights, sample_weight_mode, weighted_metrics, target_tensors, **kwargs)\u001b[0m\n\u001b[1;32m    340\u001b[0m                 \u001b[0;32mwith\u001b[0m \u001b[0mK\u001b[0m\u001b[0;34m.\u001b[0m\u001b[0mname_scope\u001b[0m\u001b[0;34m(\u001b[0m\u001b[0mself\u001b[0m\u001b[0;34m.\u001b[0m\u001b[0moutput_names\u001b[0m\u001b[0;34m[\u001b[0m\u001b[0mi\u001b[0m\u001b[0;34m]\u001b[0m \u001b[0;34m+\u001b[0m \u001b[0;34m'_loss'\u001b[0m\u001b[0;34m)\u001b[0m\u001b[0;34m:\u001b[0m\u001b[0;34m\u001b[0m\u001b[0m\n\u001b[1;32m    341\u001b[0m                     output_loss = weighted_loss(y_true, y_pred,\n\u001b[0;32m--> 342\u001b[0;31m                                                 sample_weight, mask)\n\u001b[0m\u001b[1;32m    343\u001b[0m                 \u001b[0;32mif\u001b[0m \u001b[0mlen\u001b[0m\u001b[0;34m(\u001b[0m\u001b[0mself\u001b[0m\u001b[0;34m.\u001b[0m\u001b[0moutputs\u001b[0m\u001b[0;34m)\u001b[0m \u001b[0;34m>\u001b[0m \u001b[0;36m1\u001b[0m\u001b[0;34m:\u001b[0m\u001b[0;34m\u001b[0m\u001b[0m\n\u001b[1;32m    344\u001b[0m                     \u001b[0mself\u001b[0m\u001b[0;34m.\u001b[0m\u001b[0mmetrics_tensors\u001b[0m\u001b[0;34m.\u001b[0m\u001b[0mappend\u001b[0m\u001b[0;34m(\u001b[0m\u001b[0moutput_loss\u001b[0m\u001b[0;34m)\u001b[0m\u001b[0;34m\u001b[0m\u001b[0m\n",
      "\u001b[0;32m/usr/local/envs/py3env/lib/python3.5/site-packages/keras/engine/training_utils.py\u001b[0m in \u001b[0;36mweighted\u001b[0;34m(y_true, y_pred, weights, mask)\u001b[0m\n\u001b[1;32m    402\u001b[0m         \"\"\"\n\u001b[1;32m    403\u001b[0m         \u001b[0;31m# score_array has ndim >= 2\u001b[0m\u001b[0;34m\u001b[0m\u001b[0;34m\u001b[0m\u001b[0m\n\u001b[0;32m--> 404\u001b[0;31m         \u001b[0mscore_array\u001b[0m \u001b[0;34m=\u001b[0m \u001b[0mfn\u001b[0m\u001b[0;34m(\u001b[0m\u001b[0my_true\u001b[0m\u001b[0;34m,\u001b[0m \u001b[0my_pred\u001b[0m\u001b[0;34m)\u001b[0m\u001b[0;34m\u001b[0m\u001b[0m\n\u001b[0m\u001b[1;32m    405\u001b[0m         \u001b[0;32mif\u001b[0m \u001b[0mmask\u001b[0m \u001b[0;32mis\u001b[0m \u001b[0;32mnot\u001b[0m \u001b[0;32mNone\u001b[0m\u001b[0;34m:\u001b[0m\u001b[0;34m\u001b[0m\u001b[0m\n\u001b[1;32m    406\u001b[0m             \u001b[0;31m# Cast the mask to floatX to avoid float64 upcasting in Theano\u001b[0m\u001b[0;34m\u001b[0m\u001b[0;34m\u001b[0m\u001b[0m\n",
      "\u001b[0;32m<ipython-input-16-5c9b8d8002f8>\u001b[0m in \u001b[0;36mlovasz_loss\u001b[0;34m(y_true, y_pred)\u001b[0m\n\u001b[1;32m     79\u001b[0m \u001b[0;34m\u001b[0m\u001b[0m\n\u001b[1;32m     80\u001b[0m \u001b[0;32mdef\u001b[0m \u001b[0mlovasz_loss\u001b[0m\u001b[0;34m(\u001b[0m\u001b[0my_true\u001b[0m\u001b[0;34m,\u001b[0m \u001b[0my_pred\u001b[0m\u001b[0;34m)\u001b[0m\u001b[0;34m:\u001b[0m\u001b[0;34m\u001b[0m\u001b[0m\n\u001b[0;32m---> 81\u001b[0;31m     \u001b[0my_true\u001b[0m\u001b[0;34m,\u001b[0m \u001b[0my_pred\u001b[0m \u001b[0;34m=\u001b[0m \u001b[0mK\u001b[0m\u001b[0;34m.\u001b[0m\u001b[0mcast\u001b[0m\u001b[0;34m(\u001b[0m\u001b[0mK\u001b[0m\u001b[0;34m.\u001b[0m\u001b[0msqueeze\u001b[0m\u001b[0;34m(\u001b[0m\u001b[0my_true\u001b[0m\u001b[0;34m,\u001b[0m \u001b[0;34m-\u001b[0m\u001b[0;36m1\u001b[0m\u001b[0;34m)\u001b[0m\u001b[0;34m,\u001b[0m \u001b[0;34m'int32'\u001b[0m\u001b[0;34m)\u001b[0m\u001b[0;34m,\u001b[0m \u001b[0mK\u001b[0m\u001b[0;34m.\u001b[0m\u001b[0mcast\u001b[0m\u001b[0;34m(\u001b[0m\u001b[0mK\u001b[0m\u001b[0;34m.\u001b[0m\u001b[0msqueeze\u001b[0m\u001b[0;34m(\u001b[0m\u001b[0my_pred\u001b[0m\u001b[0;34m,\u001b[0m \u001b[0;34m-\u001b[0m\u001b[0;36m1\u001b[0m\u001b[0;34m)\u001b[0m\u001b[0;34m,\u001b[0m \u001b[0;34m'float32'\u001b[0m\u001b[0;34m)\u001b[0m\u001b[0;34m\u001b[0m\u001b[0m\n\u001b[0m\u001b[1;32m     82\u001b[0m     \u001b[0;31m#logits = K.log(y_pred / (1. - y_pred))\u001b[0m\u001b[0;34m\u001b[0m\u001b[0;34m\u001b[0m\u001b[0m\n\u001b[1;32m     83\u001b[0m     \u001b[0mlogits\u001b[0m \u001b[0;34m=\u001b[0m \u001b[0my_pred\u001b[0m \u001b[0;31m#Jiaxin\u001b[0m\u001b[0;34m\u001b[0m\u001b[0m\n",
      "\u001b[0;32m/usr/local/envs/py3env/lib/python3.5/site-packages/keras/backend/tensorflow_backend.py\u001b[0m in \u001b[0;36msqueeze\u001b[0;34m(x, axis)\u001b[0m\n\u001b[1;32m   2242\u001b[0m         \u001b[0mA\u001b[0m \u001b[0mtensor\u001b[0m \u001b[0;32mwith\u001b[0m \u001b[0mthe\u001b[0m \u001b[0msame\u001b[0m \u001b[0mdata\u001b[0m \u001b[0;32mas\u001b[0m\u001b[0;31m \u001b[0m\u001b[0;31m`\u001b[0m\u001b[0mx\u001b[0m\u001b[0;31m`\u001b[0m \u001b[0mbut\u001b[0m \u001b[0mreduced\u001b[0m \u001b[0mdimensions\u001b[0m\u001b[0;34m.\u001b[0m\u001b[0;34m\u001b[0m\u001b[0m\n\u001b[1;32m   2243\u001b[0m     \"\"\"\n\u001b[0;32m-> 2244\u001b[0;31m     \u001b[0;32mreturn\u001b[0m \u001b[0mtf\u001b[0m\u001b[0;34m.\u001b[0m\u001b[0msqueeze\u001b[0m\u001b[0;34m(\u001b[0m\u001b[0mx\u001b[0m\u001b[0;34m,\u001b[0m \u001b[0;34m[\u001b[0m\u001b[0maxis\u001b[0m\u001b[0;34m]\u001b[0m\u001b[0;34m)\u001b[0m\u001b[0;34m\u001b[0m\u001b[0m\n\u001b[0m\u001b[1;32m   2245\u001b[0m \u001b[0;34m\u001b[0m\u001b[0m\n\u001b[1;32m   2246\u001b[0m \u001b[0;34m\u001b[0m\u001b[0m\n",
      "\u001b[0;32m/usr/local/envs/py3env/lib/python3.5/site-packages/tensorflow/python/ops/array_ops.py\u001b[0m in \u001b[0;36msqueeze\u001b[0;34m(input, axis, name, squeeze_dims)\u001b[0m\n\u001b[1;32m   2628\u001b[0m   \u001b[0;32mif\u001b[0m \u001b[0mnp\u001b[0m\u001b[0;34m.\u001b[0m\u001b[0misscalar\u001b[0m\u001b[0;34m(\u001b[0m\u001b[0maxis\u001b[0m\u001b[0;34m)\u001b[0m\u001b[0;34m:\u001b[0m\u001b[0;34m\u001b[0m\u001b[0m\n\u001b[1;32m   2629\u001b[0m     \u001b[0maxis\u001b[0m \u001b[0;34m=\u001b[0m \u001b[0;34m[\u001b[0m\u001b[0maxis\u001b[0m\u001b[0;34m]\u001b[0m\u001b[0;34m\u001b[0m\u001b[0m\n\u001b[0;32m-> 2630\u001b[0;31m   \u001b[0;32mreturn\u001b[0m \u001b[0mgen_array_ops\u001b[0m\u001b[0;34m.\u001b[0m\u001b[0msqueeze\u001b[0m\u001b[0;34m(\u001b[0m\u001b[0minput\u001b[0m\u001b[0;34m,\u001b[0m \u001b[0maxis\u001b[0m\u001b[0;34m,\u001b[0m \u001b[0mname\u001b[0m\u001b[0;34m)\u001b[0m\u001b[0;34m\u001b[0m\u001b[0m\n\u001b[0m\u001b[1;32m   2631\u001b[0m \u001b[0;34m\u001b[0m\u001b[0m\n\u001b[1;32m   2632\u001b[0m \u001b[0;34m\u001b[0m\u001b[0m\n",
      "\u001b[0;32m/usr/local/envs/py3env/lib/python3.5/site-packages/tensorflow/python/ops/gen_array_ops.py\u001b[0m in \u001b[0;36msqueeze\u001b[0;34m(input, axis, name)\u001b[0m\n\u001b[1;32m   7860\u001b[0m     \u001b[0maxis\u001b[0m \u001b[0;34m=\u001b[0m \u001b[0;34m[\u001b[0m\u001b[0m_execute\u001b[0m\u001b[0;34m.\u001b[0m\u001b[0mmake_int\u001b[0m\u001b[0;34m(\u001b[0m\u001b[0m_i\u001b[0m\u001b[0;34m,\u001b[0m \u001b[0;34m\"axis\"\u001b[0m\u001b[0;34m)\u001b[0m \u001b[0;32mfor\u001b[0m \u001b[0m_i\u001b[0m \u001b[0;32min\u001b[0m \u001b[0maxis\u001b[0m\u001b[0;34m]\u001b[0m\u001b[0;34m\u001b[0m\u001b[0m\n\u001b[1;32m   7861\u001b[0m     _, _, _op = _op_def_lib._apply_op_helper(\n\u001b[0;32m-> 7862\u001b[0;31m         \"Squeeze\", input=input, squeeze_dims=axis, name=name)\n\u001b[0m\u001b[1;32m   7863\u001b[0m     \u001b[0m_result\u001b[0m \u001b[0;34m=\u001b[0m \u001b[0m_op\u001b[0m\u001b[0;34m.\u001b[0m\u001b[0moutputs\u001b[0m\u001b[0;34m[\u001b[0m\u001b[0;34m:\u001b[0m\u001b[0;34m]\u001b[0m\u001b[0;34m\u001b[0m\u001b[0m\n\u001b[1;32m   7864\u001b[0m     \u001b[0m_inputs_flat\u001b[0m \u001b[0;34m=\u001b[0m \u001b[0m_op\u001b[0m\u001b[0;34m.\u001b[0m\u001b[0minputs\u001b[0m\u001b[0;34m\u001b[0m\u001b[0m\n",
      "\u001b[0;32m/usr/local/envs/py3env/lib/python3.5/site-packages/tensorflow/python/framework/op_def_library.py\u001b[0m in \u001b[0;36m_apply_op_helper\u001b[0;34m(self, op_type_name, name, **keywords)\u001b[0m\n\u001b[1;32m    785\u001b[0m         op = g.create_op(op_type_name, inputs, output_types, name=scope,\n\u001b[1;32m    786\u001b[0m                          \u001b[0minput_types\u001b[0m\u001b[0;34m=\u001b[0m\u001b[0minput_types\u001b[0m\u001b[0;34m,\u001b[0m \u001b[0mattrs\u001b[0m\u001b[0;34m=\u001b[0m\u001b[0mattr_protos\u001b[0m\u001b[0;34m,\u001b[0m\u001b[0;34m\u001b[0m\u001b[0m\n\u001b[0;32m--> 787\u001b[0;31m                          op_def=op_def)\n\u001b[0m\u001b[1;32m    788\u001b[0m       \u001b[0;32mreturn\u001b[0m \u001b[0moutput_structure\u001b[0m\u001b[0;34m,\u001b[0m \u001b[0mop_def\u001b[0m\u001b[0;34m.\u001b[0m\u001b[0mis_stateful\u001b[0m\u001b[0;34m,\u001b[0m \u001b[0mop\u001b[0m\u001b[0;34m\u001b[0m\u001b[0m\n\u001b[1;32m    789\u001b[0m \u001b[0;34m\u001b[0m\u001b[0m\n",
      "\u001b[0;32m/usr/local/envs/py3env/lib/python3.5/site-packages/tensorflow/python/framework/ops.py\u001b[0m in \u001b[0;36mcreate_op\u001b[0;34m(self, op_type, inputs, dtypes, input_types, name, attrs, op_def, compute_shapes, compute_device)\u001b[0m\n\u001b[1;32m   3390\u001b[0m           \u001b[0minput_types\u001b[0m\u001b[0;34m=\u001b[0m\u001b[0minput_types\u001b[0m\u001b[0;34m,\u001b[0m\u001b[0;34m\u001b[0m\u001b[0m\n\u001b[1;32m   3391\u001b[0m           \u001b[0moriginal_op\u001b[0m\u001b[0;34m=\u001b[0m\u001b[0mself\u001b[0m\u001b[0;34m.\u001b[0m\u001b[0m_default_original_op\u001b[0m\u001b[0;34m,\u001b[0m\u001b[0;34m\u001b[0m\u001b[0m\n\u001b[0;32m-> 3392\u001b[0;31m           op_def=op_def)\n\u001b[0m\u001b[1;32m   3393\u001b[0m \u001b[0;34m\u001b[0m\u001b[0m\n\u001b[1;32m   3394\u001b[0m       \u001b[0;31m# Note: shapes are lazily computed with the C API enabled.\u001b[0m\u001b[0;34m\u001b[0m\u001b[0;34m\u001b[0m\u001b[0m\n",
      "\u001b[0;32m/usr/local/envs/py3env/lib/python3.5/site-packages/tensorflow/python/framework/ops.py\u001b[0m in \u001b[0;36m__init__\u001b[0;34m(self, node_def, g, inputs, output_types, control_inputs, input_types, original_op, op_def)\u001b[0m\n\u001b[1;32m   1732\u001b[0m           op_def, inputs, node_def.attr)\n\u001b[1;32m   1733\u001b[0m       self._c_op = _create_c_op(self._graph, node_def, grouped_inputs,\n\u001b[0;32m-> 1734\u001b[0;31m                                 control_input_ops)\n\u001b[0m\u001b[1;32m   1735\u001b[0m     \u001b[0;32melse\u001b[0m\u001b[0;34m:\u001b[0m\u001b[0;34m\u001b[0m\u001b[0m\n\u001b[1;32m   1736\u001b[0m       \u001b[0mself\u001b[0m\u001b[0;34m.\u001b[0m\u001b[0m_c_op\u001b[0m \u001b[0;34m=\u001b[0m \u001b[0;32mNone\u001b[0m\u001b[0;34m\u001b[0m\u001b[0m\n",
      "\u001b[0;32m/usr/local/envs/py3env/lib/python3.5/site-packages/tensorflow/python/framework/ops.py\u001b[0m in \u001b[0;36m_create_c_op\u001b[0;34m(graph, node_def, inputs, control_inputs)\u001b[0m\n\u001b[1;32m   1568\u001b[0m   \u001b[0;32mexcept\u001b[0m \u001b[0merrors\u001b[0m\u001b[0;34m.\u001b[0m\u001b[0mInvalidArgumentError\u001b[0m \u001b[0;32mas\u001b[0m \u001b[0me\u001b[0m\u001b[0;34m:\u001b[0m\u001b[0;34m\u001b[0m\u001b[0m\n\u001b[1;32m   1569\u001b[0m     \u001b[0;31m# Convert to ValueError for backwards compatibility.\u001b[0m\u001b[0;34m\u001b[0m\u001b[0;34m\u001b[0m\u001b[0m\n\u001b[0;32m-> 1570\u001b[0;31m     \u001b[0;32mraise\u001b[0m \u001b[0mValueError\u001b[0m\u001b[0;34m(\u001b[0m\u001b[0mstr\u001b[0m\u001b[0;34m(\u001b[0m\u001b[0me\u001b[0m\u001b[0;34m)\u001b[0m\u001b[0;34m)\u001b[0m\u001b[0;34m\u001b[0m\u001b[0m\n\u001b[0m\u001b[1;32m   1571\u001b[0m \u001b[0;34m\u001b[0m\u001b[0m\n\u001b[1;32m   1572\u001b[0m   \u001b[0;32mreturn\u001b[0m \u001b[0mc_op\u001b[0m\u001b[0;34m\u001b[0m\u001b[0m\n",
      "\u001b[0;31mValueError\u001b[0m: Can not squeeze dim[3], expected a dimension of 1, got 16 for 'loss_4/activation_91_loss/Squeeze_1' (op: 'Squeeze') with input shapes: [?,?,?,16]."
     ]
    }
   ],
   "source": [
    "with tf.device(\"/cpu:0\"):\n",
    "    model = load_model(save_model_name,custom_objects={'my_iou_metric': my_iou_metric})\n",
    "    # remove layter activation layer and use losvasz loss\n",
    "    input_x = model.layers[0].input\n",
    "\n",
    "    output_layer = model.layers[-1].input\n",
    "\n",
    "model = Model(input_x, output_layer)\n",
    "if gpu_count > 1:\n",
    "    base_model = model\n",
    "    model = multi_gpu_model(model, gpus=gpu_count)\n",
    "\n",
    "c = optimizers.Nadam(lr = 0.01)\n",
    "#c = Eve(lr = 0.001)\n",
    "\n",
    "# lovasz_loss need input range (-∞，+∞), so cancel the last \"sigmoid\" activation  \n",
    "# Then the default threshod for pixel prediction is 0 instead of 0.5, as in my_iou_metric_2.\n",
    "model.compile(loss=lovasz_loss, optimizer=c, metrics=[my_iou_metric_2])\n",
    "\n",
    "#model.summary()"
   ]
  },
  {
   "cell_type": "code",
   "execution_count": 40,
   "metadata": {
    "_uuid": "bc68a1d9f9ec3837a2988bd7fe05d1fffdbc381d"
   },
   "outputs": [
    {
     "name": "stdout",
     "output_type": "stream",
     "text": [
      "Train on 6400 samples, validate on 800 samples\n",
      "Epoch 1/120\n",
      "6400/6400 [==============================] - 197s 31ms/step - loss: 0.5753 - my_iou_metric_2: 0.7444 - val_loss: 0.7435 - val_my_iou_metric_2: 0.7327\n",
      "Epoch 00001: val_my_iou_metric_2 improved from -inf to 0.73275, saving model to ./models/Unet_resnet_v7.model\n",
      "Epoch 2/120\n",
      "6400/6400 [==============================] - 135s 21ms/step - loss: 0.4257 - my_iou_metric_2: 0.7831 - val_loss: 0.6130 - val_my_iou_metric_2: 0.7562\n",
      "Epoch 00002: val_my_iou_metric_2 improved from 0.73275 to 0.75625, saving model to ./models/Unet_resnet_v7.model\n",
      "Epoch 3/120\n",
      "6400/6400 [==============================] - 135s 21ms/step - loss: 0.4016 - my_iou_metric_2: 0.7889 - val_loss: 0.6009 - val_my_iou_metric_2: 0.7139\n",
      "Epoch 00003: val_my_iou_metric_2 did not improve\n",
      "Epoch 4/120\n",
      "6400/6400 [==============================] - 135s 21ms/step - loss: 0.3880 - my_iou_metric_2: 0.7906 - val_loss: 0.4894 - val_my_iou_metric_2: 0.7565\n",
      "Epoch 00004: val_my_iou_metric_2 improved from 0.75625 to 0.75650, saving model to ./models/Unet_resnet_v7.model\n",
      "Epoch 5/120\n",
      "6400/6400 [==============================] - 135s 21ms/step - loss: 0.3841 - my_iou_metric_2: 0.7938 - val_loss: 0.5410 - val_my_iou_metric_2: 0.7223\n",
      "Epoch 00005: val_my_iou_metric_2 did not improve\n",
      "Epoch 6/120\n",
      "6400/6400 [==============================] - 134s 21ms/step - loss: 0.3778 - my_iou_metric_2: 0.7930 - val_loss: 0.5938 - val_my_iou_metric_2: 0.6970\n",
      "Epoch 00006: val_my_iou_metric_2 did not improve\n",
      "Epoch 7/120\n",
      "6400/6400 [==============================] - 134s 21ms/step - loss: 0.3711 - my_iou_metric_2: 0.7935 - val_loss: 0.5155 - val_my_iou_metric_2: 0.7342\n",
      "Epoch 00007: val_my_iou_metric_2 did not improve\n",
      "Epoch 8/120\n",
      "6400/6400 [==============================] - 134s 21ms/step - loss: 0.3576 - my_iou_metric_2: 0.7983 - val_loss: 0.5242 - val_my_iou_metric_2: 0.7278\n",
      "Epoch 00008: val_my_iou_metric_2 did not improve\n",
      "Epoch 9/120\n",
      "6400/6400 [==============================] - 133s 21ms/step - loss: 0.3574 - my_iou_metric_2: 0.8018 - val_loss: 0.4800 - val_my_iou_metric_2: 0.7512\n",
      "Epoch 00009: val_my_iou_metric_2 did not improve\n",
      "\n",
      "Epoch 00009: ReduceLROnPlateau reducing learning rate to 0.004999999888241291.\n",
      "Epoch 10/120\n",
      "6400/6400 [==============================] - 134s 21ms/step - loss: 0.3153 - my_iou_metric_2: 0.8178 - val_loss: 0.4053 - val_my_iou_metric_2: 0.7795\n",
      "Epoch 00010: val_my_iou_metric_2 improved from 0.75650 to 0.77950, saving model to ./models/Unet_resnet_v7.model\n",
      "Epoch 11/120\n",
      "6400/6400 [==============================] - 133s 21ms/step - loss: 0.2996 - my_iou_metric_2: 0.8251 - val_loss: 0.4023 - val_my_iou_metric_2: 0.7845\n",
      "Epoch 00011: val_my_iou_metric_2 improved from 0.77950 to 0.78450, saving model to ./models/Unet_resnet_v7.model\n",
      "Epoch 12/120\n",
      "6400/6400 [==============================] - 134s 21ms/step - loss: 0.2986 - my_iou_metric_2: 0.8256 - val_loss: 0.4622 - val_my_iou_metric_2: 0.7547\n",
      "Epoch 00012: val_my_iou_metric_2 did not improve\n",
      "Epoch 13/120\n",
      "6400/6400 [==============================] - 134s 21ms/step - loss: 0.2948 - my_iou_metric_2: 0.8262 - val_loss: 0.3893 - val_my_iou_metric_2: 0.7868\n",
      "Epoch 00013: val_my_iou_metric_2 improved from 0.78450 to 0.78675, saving model to ./models/Unet_resnet_v7.model\n",
      "Epoch 14/120\n",
      "6400/6400 [==============================] - 134s 21ms/step - loss: 0.3082 - my_iou_metric_2: 0.8186 - val_loss: 0.4388 - val_my_iou_metric_2: 0.7595\n",
      "Epoch 00014: val_my_iou_metric_2 did not improve\n",
      "Epoch 15/120\n",
      "6400/6400 [==============================] - 134s 21ms/step - loss: 0.2971 - my_iou_metric_2: 0.8246 - val_loss: 0.4055 - val_my_iou_metric_2: 0.7764\n",
      "Epoch 00015: val_my_iou_metric_2 did not improve\n",
      "Epoch 16/120\n",
      "6400/6400 [==============================] - 134s 21ms/step - loss: 0.2966 - my_iou_metric_2: 0.8240 - val_loss: 0.4650 - val_my_iou_metric_2: 0.7565\n",
      "Epoch 00016: val_my_iou_metric_2 did not improve\n",
      "Epoch 17/120\n",
      "6400/6400 [==============================] - 134s 21ms/step - loss: 0.2868 - my_iou_metric_2: 0.8309 - val_loss: 0.4129 - val_my_iou_metric_2: 0.7704\n",
      "Epoch 00017: val_my_iou_metric_2 did not improve\n",
      "Epoch 18/120\n",
      "6400/6400 [==============================] - 133s 21ms/step - loss: 0.2979 - my_iou_metric_2: 0.8247 - val_loss: 0.4262 - val_my_iou_metric_2: 0.7732\n",
      "Epoch 00018: val_my_iou_metric_2 did not improve\n",
      "\n",
      "Epoch 00018: ReduceLROnPlateau reducing learning rate to 0.0024999999441206455.\n",
      "Epoch 19/120\n",
      "6400/6400 [==============================] - 133s 21ms/step - loss: 0.2708 - my_iou_metric_2: 0.8363 - val_loss: 0.3883 - val_my_iou_metric_2: 0.7840\n",
      "Epoch 00019: val_my_iou_metric_2 did not improve\n",
      "Epoch 20/120\n",
      "6400/6400 [==============================] - 134s 21ms/step - loss: 0.2640 - my_iou_metric_2: 0.8382 - val_loss: 0.3979 - val_my_iou_metric_2: 0.7808\n",
      "Epoch 00020: val_my_iou_metric_2 did not improve\n",
      "Epoch 21/120\n",
      "6400/6400 [==============================] - 134s 21ms/step - loss: 0.2598 - my_iou_metric_2: 0.8425 - val_loss: 0.4039 - val_my_iou_metric_2: 0.7709\n",
      "Epoch 00021: val_my_iou_metric_2 did not improve\n",
      "Epoch 22/120\n",
      "6400/6400 [==============================] - 134s 21ms/step - loss: 0.2503 - my_iou_metric_2: 0.8462 - val_loss: 0.3941 - val_my_iou_metric_2: 0.7826\n",
      "Epoch 00022: val_my_iou_metric_2 did not improve\n",
      "Epoch 23/120\n",
      "6400/6400 [==============================] - 133s 21ms/step - loss: 0.2538 - my_iou_metric_2: 0.8432 - val_loss: 0.4021 - val_my_iou_metric_2: 0.7740\n",
      "Epoch 00023: val_my_iou_metric_2 did not improve\n",
      "\n",
      "Epoch 00023: ReduceLROnPlateau reducing learning rate to 0.0012499999720603228.\n",
      "Epoch 24/120\n",
      "6400/6400 [==============================] - 134s 21ms/step - loss: 0.2474 - my_iou_metric_2: 0.8469 - val_loss: 0.3736 - val_my_iou_metric_2: 0.7917\n",
      "Epoch 00024: val_my_iou_metric_2 improved from 0.78675 to 0.79175, saving model to ./models/Unet_resnet_v7.model\n",
      "Epoch 25/120\n",
      "6400/6400 [==============================] - 133s 21ms/step - loss: 0.2355 - my_iou_metric_2: 0.8534 - val_loss: 0.3764 - val_my_iou_metric_2: 0.7946\n",
      "Epoch 00025: val_my_iou_metric_2 improved from 0.79175 to 0.79463, saving model to ./models/Unet_resnet_v7.model\n",
      "Epoch 26/120\n",
      "6400/6400 [==============================] - 133s 21ms/step - loss: 0.2387 - my_iou_metric_2: 0.8523 - val_loss: 0.3710 - val_my_iou_metric_2: 0.7949\n",
      "Epoch 00026: val_my_iou_metric_2 improved from 0.79463 to 0.79487, saving model to ./models/Unet_resnet_v7.model\n",
      "Epoch 27/120\n",
      "6400/6400 [==============================] - 134s 21ms/step - loss: 0.2343 - my_iou_metric_2: 0.8545 - val_loss: 0.3915 - val_my_iou_metric_2: 0.7871\n",
      "Epoch 00027: val_my_iou_metric_2 did not improve\n",
      "Epoch 28/120\n",
      "6400/6400 [==============================] - 134s 21ms/step - loss: 0.2340 - my_iou_metric_2: 0.8549 - val_loss: 0.3949 - val_my_iou_metric_2: 0.7781\n",
      "Epoch 00028: val_my_iou_metric_2 did not improve\n",
      "Epoch 29/120\n",
      "6400/6400 [==============================] - 134s 21ms/step - loss: 0.2275 - my_iou_metric_2: 0.8567 - val_loss: 0.3757 - val_my_iou_metric_2: 0.7896\n",
      "Epoch 00029: val_my_iou_metric_2 did not improve\n",
      "Epoch 30/120\n",
      "6400/6400 [==============================] - 135s 21ms/step - loss: 0.2284 - my_iou_metric_2: 0.8571 - val_loss: 0.3807 - val_my_iou_metric_2: 0.7881\n",
      "Epoch 00030: val_my_iou_metric_2 did not improve\n",
      "Epoch 31/120\n",
      "6400/6400 [==============================] - 134s 21ms/step - loss: 0.2306 - my_iou_metric_2: 0.8565 - val_loss: 0.3727 - val_my_iou_metric_2: 0.7914\n",
      "Epoch 00031: val_my_iou_metric_2 did not improve\n",
      "\n",
      "Epoch 00031: ReduceLROnPlateau reducing learning rate to 0.0006249999860301614.\n",
      "Epoch 32/120\n",
      "6400/6400 [==============================] - 134s 21ms/step - loss: 0.2242 - my_iou_metric_2: 0.8588 - val_loss: 0.3753 - val_my_iou_metric_2: 0.7909\n",
      "Epoch 00032: val_my_iou_metric_2 did not improve\n",
      "Epoch 33/120\n",
      "6400/6400 [==============================] - 135s 21ms/step - loss: 0.2218 - my_iou_metric_2: 0.8606 - val_loss: 0.3643 - val_my_iou_metric_2: 0.7941\n",
      "Epoch 00033: val_my_iou_metric_2 did not improve\n",
      "Epoch 34/120\n",
      "6400/6400 [==============================] - 134s 21ms/step - loss: 0.2234 - my_iou_metric_2: 0.8593 - val_loss: 0.3734 - val_my_iou_metric_2: 0.7909\n",
      "Epoch 00034: val_my_iou_metric_2 did not improve\n",
      "Epoch 35/120\n"
     ]
    },
    {
     "name": "stdout",
     "output_type": "stream",
     "text": [
      "6400/6400 [==============================] - 134s 21ms/step - loss: 0.2208 - my_iou_metric_2: 0.8607 - val_loss: 0.3765 - val_my_iou_metric_2: 0.7958\n",
      "Epoch 00035: val_my_iou_metric_2 improved from 0.79487 to 0.79575, saving model to ./models/Unet_resnet_v7.model\n",
      "Epoch 36/120\n",
      "6400/6400 [==============================] - 134s 21ms/step - loss: 0.2177 - my_iou_metric_2: 0.8619 - val_loss: 0.3677 - val_my_iou_metric_2: 0.7906\n",
      "Epoch 00036: val_my_iou_metric_2 did not improve\n",
      "Epoch 37/120\n",
      "6400/6400 [==============================] - 134s 21ms/step - loss: 0.2159 - my_iou_metric_2: 0.8633 - val_loss: 0.3864 - val_my_iou_metric_2: 0.7871\n",
      "Epoch 00037: val_my_iou_metric_2 did not improve\n",
      "Epoch 38/120\n",
      "6400/6400 [==============================] - 134s 21ms/step - loss: 0.2170 - my_iou_metric_2: 0.8629 - val_loss: 0.3740 - val_my_iou_metric_2: 0.7944\n",
      "Epoch 00038: val_my_iou_metric_2 did not improve\n",
      "Epoch 39/120\n",
      "6400/6400 [==============================] - 134s 21ms/step - loss: 0.2129 - my_iou_metric_2: 0.8650 - val_loss: 0.3686 - val_my_iou_metric_2: 0.7925\n",
      "Epoch 00039: val_my_iou_metric_2 did not improve\n",
      "Epoch 40/120\n",
      "6400/6400 [==============================] - 134s 21ms/step - loss: 0.2169 - my_iou_metric_2: 0.8632 - val_loss: 0.3855 - val_my_iou_metric_2: 0.7850\n",
      "Epoch 00040: val_my_iou_metric_2 did not improve\n",
      "\n",
      "Epoch 00040: ReduceLROnPlateau reducing learning rate to 0.0003124999930150807.\n",
      "Epoch 41/120\n",
      "6400/6400 [==============================] - 134s 21ms/step - loss: 0.2081 - my_iou_metric_2: 0.8669 - val_loss: 0.3776 - val_my_iou_metric_2: 0.7887\n",
      "Epoch 00041: val_my_iou_metric_2 did not improve\n",
      "Epoch 42/120\n",
      "6400/6400 [==============================] - 135s 21ms/step - loss: 0.2095 - my_iou_metric_2: 0.8676 - val_loss: 0.3739 - val_my_iou_metric_2: 0.7913\n",
      "Epoch 00042: val_my_iou_metric_2 did not improve\n",
      "Epoch 43/120\n",
      "6400/6400 [==============================] - 135s 21ms/step - loss: 0.2100 - my_iou_metric_2: 0.8656 - val_loss: 0.3709 - val_my_iou_metric_2: 0.7925\n",
      "Epoch 00043: val_my_iou_metric_2 did not improve\n",
      "Epoch 44/120\n",
      "6400/6400 [==============================] - 136s 21ms/step - loss: 0.2105 - my_iou_metric_2: 0.8658 - val_loss: 0.3669 - val_my_iou_metric_2: 0.7926\n",
      "Epoch 00044: val_my_iou_metric_2 did not improve\n",
      "Epoch 45/120\n",
      "6400/6400 [==============================] - 136s 21ms/step - loss: 0.2092 - my_iou_metric_2: 0.8662 - val_loss: 0.3723 - val_my_iou_metric_2: 0.7924\n",
      "Epoch 00045: val_my_iou_metric_2 did not improve\n",
      "\n",
      "Epoch 00045: ReduceLROnPlateau reducing learning rate to 0.00015624999650754035.\n",
      "Epoch 46/120\n",
      "6400/6400 [==============================] - 136s 21ms/step - loss: 0.2087 - my_iou_metric_2: 0.8658 - val_loss: 0.3625 - val_my_iou_metric_2: 0.7966\n",
      "Epoch 00046: val_my_iou_metric_2 improved from 0.79575 to 0.79663, saving model to ./models/Unet_resnet_v7.model\n",
      "Epoch 47/120\n",
      "6400/6400 [==============================] - 136s 21ms/step - loss: 0.2087 - my_iou_metric_2: 0.8665 - val_loss: 0.3684 - val_my_iou_metric_2: 0.7959\n",
      "Epoch 00047: val_my_iou_metric_2 did not improve\n",
      "Epoch 48/120\n",
      "6400/6400 [==============================] - 136s 21ms/step - loss: 0.2040 - my_iou_metric_2: 0.8687 - val_loss: 0.3663 - val_my_iou_metric_2: 0.7979\n",
      "Epoch 00048: val_my_iou_metric_2 improved from 0.79663 to 0.79788, saving model to ./models/Unet_resnet_v7.model\n",
      "Epoch 49/120\n",
      "6400/6400 [==============================] - 135s 21ms/step - loss: 0.2049 - my_iou_metric_2: 0.8684 - val_loss: 0.3656 - val_my_iou_metric_2: 0.7971\n",
      "Epoch 00049: val_my_iou_metric_2 did not improve\n",
      "Epoch 50/120\n",
      "6400/6400 [==============================] - 135s 21ms/step - loss: 0.2068 - my_iou_metric_2: 0.8674 - val_loss: 0.3670 - val_my_iou_metric_2: 0.7939\n",
      "Epoch 00050: val_my_iou_metric_2 did not improve\n",
      "Epoch 51/120\n",
      "6400/6400 [==============================] - 135s 21ms/step - loss: 0.2048 - my_iou_metric_2: 0.8690 - val_loss: 0.3655 - val_my_iou_metric_2: 0.7965\n",
      "Epoch 00051: val_my_iou_metric_2 did not improve\n",
      "Epoch 52/120\n",
      "6400/6400 [==============================] - 135s 21ms/step - loss: 0.2035 - my_iou_metric_2: 0.8689 - val_loss: 0.3709 - val_my_iou_metric_2: 0.7930\n",
      "Epoch 00052: val_my_iou_metric_2 did not improve\n",
      "Epoch 53/120\n",
      "6400/6400 [==============================] - 135s 21ms/step - loss: 0.2057 - my_iou_metric_2: 0.8693 - val_loss: 0.3697 - val_my_iou_metric_2: 0.7908\n",
      "Epoch 00053: val_my_iou_metric_2 did not improve\n",
      "\n",
      "Epoch 00053: ReduceLROnPlateau reducing learning rate to 7.812499825377017e-05.\n",
      "Epoch 54/120\n",
      "6400/6400 [==============================] - 135s 21ms/step - loss: 0.2062 - my_iou_metric_2: 0.8687 - val_loss: 0.3651 - val_my_iou_metric_2: 0.7956\n",
      "Epoch 00054: val_my_iou_metric_2 did not improve\n",
      "Epoch 55/120\n",
      "6400/6400 [==============================] - 135s 21ms/step - loss: 0.2095 - my_iou_metric_2: 0.8663 - val_loss: 0.3669 - val_my_iou_metric_2: 0.7976\n",
      "Epoch 00055: val_my_iou_metric_2 did not improve\n",
      "Epoch 56/120\n",
      "6400/6400 [==============================] - 135s 21ms/step - loss: 0.2086 - my_iou_metric_2: 0.8685 - val_loss: 0.3665 - val_my_iou_metric_2: 0.7955\n",
      "Epoch 00056: val_my_iou_metric_2 did not improve\n",
      "Epoch 57/120\n",
      "6400/6400 [==============================] - 135s 21ms/step - loss: 0.2059 - my_iou_metric_2: 0.8676 - val_loss: 0.3681 - val_my_iou_metric_2: 0.7949\n",
      "Epoch 00057: val_my_iou_metric_2 did not improve\n",
      "Epoch 58/120\n",
      "6400/6400 [==============================] - 135s 21ms/step - loss: 0.2057 - my_iou_metric_2: 0.8676 - val_loss: 0.3671 - val_my_iou_metric_2: 0.7937\n",
      "Epoch 00058: val_my_iou_metric_2 did not improve\n",
      "\n",
      "Epoch 00058: ReduceLROnPlateau reducing learning rate to 5e-05.\n",
      "Epoch 59/120\n",
      "6400/6400 [==============================] - 135s 21ms/step - loss: 0.2059 - my_iou_metric_2: 0.8682 - val_loss: 0.3668 - val_my_iou_metric_2: 0.7950\n",
      "Epoch 00059: val_my_iou_metric_2 did not improve\n",
      "Epoch 60/120\n",
      "6400/6400 [==============================] - 135s 21ms/step - loss: 0.2026 - my_iou_metric_2: 0.8688 - val_loss: 0.3683 - val_my_iou_metric_2: 0.7935\n",
      "Epoch 00060: val_my_iou_metric_2 did not improve\n",
      "Epoch 61/120\n",
      "6400/6400 [==============================] - 134s 21ms/step - loss: 0.2037 - my_iou_metric_2: 0.8687 - val_loss: 0.3670 - val_my_iou_metric_2: 0.7964\n",
      "Epoch 00061: val_my_iou_metric_2 did not improve\n",
      "Epoch 62/120\n",
      "6400/6400 [==============================] - 135s 21ms/step - loss: 0.2046 - my_iou_metric_2: 0.8693 - val_loss: 0.3659 - val_my_iou_metric_2: 0.7970\n",
      "Epoch 00062: val_my_iou_metric_2 did not improve\n",
      "Epoch 63/120\n",
      "6400/6400 [==============================] - 136s 21ms/step - loss: 0.2051 - my_iou_metric_2: 0.8695 - val_loss: 0.3664 - val_my_iou_metric_2: 0.7971\n",
      "Epoch 00063: val_my_iou_metric_2 did not improve\n",
      "Epoch 64/120\n",
      "6400/6400 [==============================] - 135s 21ms/step - loss: 0.2032 - my_iou_metric_2: 0.8695 - val_loss: 0.3650 - val_my_iou_metric_2: 0.7965\n",
      "Epoch 00064: val_my_iou_metric_2 did not improve\n",
      "Epoch 65/120\n",
      "6400/6400 [==============================] - 135s 21ms/step - loss: 0.2030 - my_iou_metric_2: 0.8696 - val_loss: 0.3626 - val_my_iou_metric_2: 0.7973\n",
      "Epoch 00065: val_my_iou_metric_2 did not improve\n",
      "Epoch 66/120\n",
      "6400/6400 [==============================] - 135s 21ms/step - loss: 0.2032 - my_iou_metric_2: 0.8690 - val_loss: 0.3612 - val_my_iou_metric_2: 0.7953\n",
      "Epoch 00066: val_my_iou_metric_2 did not improve\n",
      "Epoch 67/120\n",
      "6400/6400 [==============================] - 135s 21ms/step - loss: 0.2037 - my_iou_metric_2: 0.8698 - val_loss: 0.3611 - val_my_iou_metric_2: 0.7985\n",
      "Epoch 00067: val_my_iou_metric_2 improved from 0.79788 to 0.79850, saving model to ./models/Unet_resnet_v7.model\n",
      "Epoch 68/120\n",
      "6400/6400 [==============================] - 135s 21ms/step - loss: 0.2037 - my_iou_metric_2: 0.8684 - val_loss: 0.3626 - val_my_iou_metric_2: 0.7956\n",
      "Epoch 00068: val_my_iou_metric_2 did not improve\n",
      "Epoch 69/120\n",
      "6400/6400 [==============================] - 135s 21ms/step - loss: 0.2031 - my_iou_metric_2: 0.8687 - val_loss: 0.3622 - val_my_iou_metric_2: 0.7995\n",
      "Epoch 00069: val_my_iou_metric_2 improved from 0.79850 to 0.79950, saving model to ./models/Unet_resnet_v7.model\n",
      "Epoch 70/120\n",
      "6400/6400 [==============================] - 134s 21ms/step - loss: 0.2025 - my_iou_metric_2: 0.8696 - val_loss: 0.3626 - val_my_iou_metric_2: 0.7971\n"
     ]
    },
    {
     "name": "stdout",
     "output_type": "stream",
     "text": [
      "Epoch 00070: val_my_iou_metric_2 did not improve\n",
      "Epoch 71/120\n",
      "6400/6400 [==============================] - 134s 21ms/step - loss: 0.2017 - my_iou_metric_2: 0.8701 - val_loss: 0.3616 - val_my_iou_metric_2: 0.7979\n",
      "Epoch 00071: val_my_iou_metric_2 did not improve\n",
      "Epoch 72/120\n",
      "6400/6400 [==============================] - 134s 21ms/step - loss: 0.2022 - my_iou_metric_2: 0.8698 - val_loss: 0.3633 - val_my_iou_metric_2: 0.7974\n",
      "Epoch 00072: val_my_iou_metric_2 did not improve\n",
      "Epoch 73/120\n",
      "6400/6400 [==============================] - 135s 21ms/step - loss: 0.2005 - my_iou_metric_2: 0.8714 - val_loss: 0.3646 - val_my_iou_metric_2: 0.7976\n",
      "Epoch 00073: val_my_iou_metric_2 did not improve\n",
      "Epoch 74/120\n",
      "6400/6400 [==============================] - 135s 21ms/step - loss: 0.2033 - my_iou_metric_2: 0.8695 - val_loss: 0.3678 - val_my_iou_metric_2: 0.7940\n",
      "Epoch 00074: val_my_iou_metric_2 did not improve\n",
      "Epoch 75/120\n",
      "6400/6400 [==============================] - 134s 21ms/step - loss: 0.2026 - my_iou_metric_2: 0.8702 - val_loss: 0.3658 - val_my_iou_metric_2: 0.7970\n",
      "Epoch 00075: val_my_iou_metric_2 did not improve\n",
      "Epoch 76/120\n",
      "6400/6400 [==============================] - 135s 21ms/step - loss: 0.2019 - my_iou_metric_2: 0.8702 - val_loss: 0.3632 - val_my_iou_metric_2: 0.7975\n",
      "Epoch 00076: val_my_iou_metric_2 did not improve\n",
      "Epoch 77/120\n",
      "6400/6400 [==============================] - 134s 21ms/step - loss: 0.2009 - my_iou_metric_2: 0.8709 - val_loss: 0.3626 - val_my_iou_metric_2: 0.7987\n",
      "Epoch 00077: val_my_iou_metric_2 did not improve\n",
      "Epoch 78/120\n",
      "6400/6400 [==============================] - 134s 21ms/step - loss: 0.2039 - my_iou_metric_2: 0.8697 - val_loss: 0.3625 - val_my_iou_metric_2: 0.7985\n",
      "Epoch 00078: val_my_iou_metric_2 did not improve\n",
      "Epoch 79/120\n",
      "6400/6400 [==============================] - 135s 21ms/step - loss: 0.2038 - my_iou_metric_2: 0.8689 - val_loss: 0.3624 - val_my_iou_metric_2: 0.7977\n",
      "Epoch 00079: val_my_iou_metric_2 did not improve\n",
      "Epoch 80/120\n",
      "6400/6400 [==============================] - 134s 21ms/step - loss: 0.2025 - my_iou_metric_2: 0.8693 - val_loss: 0.3647 - val_my_iou_metric_2: 0.7982\n",
      "Epoch 00080: val_my_iou_metric_2 did not improve\n",
      "Epoch 81/120\n",
      "6400/6400 [==============================] - 134s 21ms/step - loss: 0.2016 - my_iou_metric_2: 0.8702 - val_loss: 0.3648 - val_my_iou_metric_2: 0.7946\n",
      "Epoch 00081: val_my_iou_metric_2 did not improve\n",
      "Epoch 82/120\n",
      "6400/6400 [==============================] - 134s 21ms/step - loss: 0.2024 - my_iou_metric_2: 0.8690 - val_loss: 0.3668 - val_my_iou_metric_2: 0.7956\n",
      "Epoch 00082: val_my_iou_metric_2 did not improve\n",
      "Epoch 83/120\n",
      "6400/6400 [==============================] - 134s 21ms/step - loss: 0.2016 - my_iou_metric_2: 0.8707 - val_loss: 0.3667 - val_my_iou_metric_2: 0.7954\n",
      "Epoch 00083: val_my_iou_metric_2 did not improve\n",
      "Epoch 84/120\n",
      "6400/6400 [==============================] - 134s 21ms/step - loss: 0.2020 - my_iou_metric_2: 0.8702 - val_loss: 0.3670 - val_my_iou_metric_2: 0.7965\n",
      "Epoch 00084: val_my_iou_metric_2 did not improve\n",
      "Epoch 85/120\n",
      "6400/6400 [==============================] - 134s 21ms/step - loss: 0.2009 - my_iou_metric_2: 0.8703 - val_loss: 0.3679 - val_my_iou_metric_2: 0.7960\n",
      "Epoch 00085: val_my_iou_metric_2 did not improve\n",
      "Epoch 86/120\n",
      "6400/6400 [==============================] - 135s 21ms/step - loss: 0.2028 - my_iou_metric_2: 0.8698 - val_loss: 0.3667 - val_my_iou_metric_2: 0.7946\n",
      "Epoch 00086: val_my_iou_metric_2 did not improve\n",
      "Epoch 87/120\n",
      "6400/6400 [==============================] - 134s 21ms/step - loss: 0.2012 - my_iou_metric_2: 0.8705 - val_loss: 0.3657 - val_my_iou_metric_2: 0.7964\n",
      "Epoch 00087: val_my_iou_metric_2 did not improve\n",
      "Epoch 88/120\n",
      "6400/6400 [==============================] - 134s 21ms/step - loss: 0.2018 - my_iou_metric_2: 0.8694 - val_loss: 0.3651 - val_my_iou_metric_2: 0.7956\n",
      "Epoch 00088: val_my_iou_metric_2 did not improve\n",
      "Epoch 89/120\n",
      "6400/6400 [==============================] - 134s 21ms/step - loss: 0.2013 - my_iou_metric_2: 0.8704 - val_loss: 0.3639 - val_my_iou_metric_2: 0.7963\n",
      "Epoch 00089: val_my_iou_metric_2 did not improve\n",
      "Epoch 00089: early stopping\n"
     ]
    }
   ],
   "source": [
    "if gpu_count > 1:\n",
    "    model_checkpoint = MultiGPUCheckpointCallback(save_model_name, base_model, monitor='val_my_iou_metric_2', \n",
    "                                                  mode = 'max', save_best_only=True, verbose=1)\n",
    "else:\n",
    "    model_checkpoint = ModelCheckpoint(save_model_name,monitor='val_my_iou_metric_2', \n",
    "                                       mode = 'max', save_best_only=True, verbose=1)\n",
    "\n",
    "\n",
    "early_stopping = EarlyStopping(monitor='val_my_iou_metric_2', mode = 'max',patience=20, verbose=1)\n",
    "reduce_lr = ReduceLROnPlateau(monitor='val_my_iou_metric_2', mode = 'max',factor=0.5, patience=5, min_lr=0.00005, verbose=1)\n",
    "epochs = 120\n",
    "batch_size = 32\n",
    "\n",
    "history = model.fit(x_train, y_train,\n",
    "                    validation_data=[x_valid, y_valid], \n",
    "                    epochs=epochs,\n",
    "                    batch_size=batch_size*gpu_count,\n",
    "                    callbacks=[ model_checkpoint,reduce_lr,early_stopping], \n",
    "                    verbose=1)"
   ]
  },
  {
   "cell_type": "code",
   "execution_count": null,
   "metadata": {
    "_uuid": "347c6567c95430f28ec51b94f42603e37a4056db"
   },
   "outputs": [],
   "source": [
    "fig, (ax_loss, ax_score) = plt.subplots(1, 2, figsize=(15,5))\n",
    "ax_loss.plot(history.epoch, history.history[\"loss\"], label=\"Train loss\")\n",
    "ax_loss.plot(history.epoch, history.history[\"val_loss\"], label=\"Validation loss\")\n",
    "ax_loss.legend()\n",
    "ax_score.plot(history.epoch, history.history[\"my_iou_metric_2\"], label=\"Train score\")\n",
    "ax_score.plot(history.epoch, history.history[\"val_my_iou_metric_2\"], label=\"Validation score\")\n",
    "ax_score.legend()"
   ]
  },
  {
   "cell_type": "code",
   "execution_count": 42,
   "metadata": {
    "_uuid": "a081f8f61a713457c8c8f3979a78f75541875456"
   },
   "outputs": [
    {
     "name": "stderr",
     "output_type": "stream",
     "text": [
      "/usr/local/envs/py3env/lib/python3.5/site-packages/keras/engine/saving.py:292: UserWarning: No training configuration found in save file: the model was *not* compiled. Compile it manually.\n",
      "  warnings.warn('No training configuration found in save file: '\n"
     ]
    }
   ],
   "source": [
    "model = load_model(save_model_name,custom_objects={'my_iou_metric_2': my_iou_metric_2,\n",
    "                                                   'lovasz_loss': lovasz_loss})\n",
    "\n"
   ]
  },
  {
   "cell_type": "code",
   "execution_count": 43,
   "metadata": {
    "_uuid": "f68651e1ce6ad9a461c8f1a25a1250fd489adfed"
   },
   "outputs": [],
   "source": [
    "def predict_result(model,x_test,img_size_target): # predict both orginal and reflect x\n",
    "    x_test_reflect =  np.array([np.fliplr(x) for x in x_test])\n",
    "    preds_test = model.predict(x_test).reshape(-1, img_size_target, img_size_target)\n",
    "    preds_test2_refect = model.predict(x_test_reflect).reshape(-1, img_size_target, img_size_target)\n",
    "    preds_test += np.array([ np.fliplr(x) for x in preds_test2_refect] )\n",
    "    return preds_test/2"
   ]
  },
  {
   "cell_type": "code",
   "execution_count": 44,
   "metadata": {
    "_uuid": "b7a061700364ea17735f953d6bd3c835bc3dc630"
   },
   "outputs": [],
   "source": [
    "preds_valid = predict_result(model,x_valid,img_size_target)"
   ]
  },
  {
   "cell_type": "code",
   "execution_count": 45,
   "metadata": {
    "_uuid": "5a9b1a900a8a4d031978c3b5ef2e739b5661de73"
   },
   "outputs": [],
   "source": [
    "#Score the model and do a threshold optimization by the best IoU.\n",
    "\n",
    "# src: https://www.kaggle.com/aglotero/another-iou-metric\n",
    "def iou_metric(y_true_in, y_pred_in, print_table=False):\n",
    "    labels = y_true_in\n",
    "    y_pred = y_pred_in\n",
    "\n",
    "\n",
    "    true_objects = 2\n",
    "    pred_objects = 2\n",
    "\n",
    "    #  if all zeros, original code  generate wrong  bins [-0.5 0 0.5],\n",
    "    temp1 = np.histogram2d(labels.flatten(), y_pred.flatten(), bins=([0,0.5,1], [0,0.5, 1]))\n",
    "#     temp1 = np.histogram2d(labels.flatten(), y_pred.flatten(), bins=(true_objects, pred_objects))\n",
    "    #print(temp1)\n",
    "    intersection = temp1[0]\n",
    "    #print(\"temp2 = \",temp1[1])\n",
    "    #print(intersection.shape)\n",
    "   # print(intersection)\n",
    "    # Compute areas (needed for finding the union between all objects)\n",
    "    #print(np.histogram(labels, bins = true_objects))\n",
    "    area_true = np.histogram(labels,bins=[0,0.5,1])[0]\n",
    "    #print(\"area_true = \",area_true)\n",
    "    area_pred = np.histogram(y_pred, bins=[0,0.5,1])[0]\n",
    "    area_true = np.expand_dims(area_true, -1)\n",
    "    area_pred = np.expand_dims(area_pred, 0)\n",
    "\n",
    "    # Compute union\n",
    "    union = area_true + area_pred - intersection\n",
    "  \n",
    "    # Exclude background from the analysis\n",
    "    intersection = intersection[1:,1:]\n",
    "    intersection[intersection == 0] = 1e-9\n",
    "    \n",
    "    union = union[1:,1:]\n",
    "    union[union == 0] = 1e-9\n",
    "\n",
    "    # Compute the intersection over union\n",
    "    iou = intersection / union\n",
    "\n",
    "    # Precision helper function\n",
    "    def precision_at(threshold, iou):\n",
    "        matches = iou > threshold\n",
    "        true_positives = np.sum(matches, axis=1) == 1   # Correct objects\n",
    "        false_positives = np.sum(matches, axis=0) == 0  # Missed objects\n",
    "        false_negatives = np.sum(matches, axis=1) == 0  # Extra objects\n",
    "        tp, fp, fn = np.sum(true_positives), np.sum(false_positives), np.sum(false_negatives)\n",
    "        return tp, fp, fn\n",
    "\n",
    "    # Loop over IoU thresholds\n",
    "    prec = []\n",
    "    if print_table:\n",
    "        print(\"Thresh\\tTP\\tFP\\tFN\\tPrec.\")\n",
    "    for t in np.arange(0.5, 1.0, 0.05):\n",
    "        tp, fp, fn = precision_at(t, iou)\n",
    "        if (tp + fp + fn) > 0:\n",
    "            p = tp / (tp + fp + fn)\n",
    "        else:\n",
    "            p = 0\n",
    "        if print_table:\n",
    "            print(\"{:1.3f}\\t{}\\t{}\\t{}\\t{:1.3f}\".format(t, tp, fp, fn, p))\n",
    "        prec.append(p)\n",
    "    \n",
    "    if print_table:\n",
    "        print(\"AP\\t-\\t-\\t-\\t{:1.3f}\".format(np.mean(prec)))\n",
    "    return np.mean(prec)\n",
    "\n",
    "def iou_metric_batch(y_true_in, y_pred_in):\n",
    "    batch_size = y_true_in.shape[0]\n",
    "    metric = []\n",
    "    for batch in range(batch_size):\n",
    "        value = iou_metric(y_true_in[batch], y_pred_in[batch])\n",
    "        metric.append(value)\n",
    "    return np.mean(metric)\n",
    "\n"
   ]
  },
  {
   "cell_type": "code",
   "execution_count": 46,
   "metadata": {
    "_uuid": "91b1be75d7e8ff74db956c8c846c47ed7576ecb2"
   },
   "outputs": [
    {
     "data": {
      "application/vnd.jupyter.widget-view+json": {
       "model_id": "a72b4322d3114032985d5c1bf2e8f9d8",
       "version_major": 2,
       "version_minor": 0
      },
      "text/plain": [
       "HBox(children=(IntProgress(value=0, max=31), HTML(value='')))"
      ]
     },
     "metadata": {},
     "output_type": "display_data"
    },
    {
     "name": "stdout",
     "output_type": "stream",
     "text": [
      "[0.781375 0.7885   0.789375 0.791375 0.791875 0.794625 0.7975   0.797625\n",
      " 0.798625 0.798875 0.8      0.799875 0.8015   0.802875 0.805375 0.80425\n",
      " 0.80475  0.80375  0.803375 0.8035   0.8035   0.803625 0.80225  0.801375\n",
      " 0.79975  0.7995   0.798125 0.797    0.79575  0.79275  0.791375]\n"
     ]
    }
   ],
   "source": [
    "## Scoring for last model, choose threshold by validation data \n",
    "thresholds_ori = np.linspace(0.3, 0.7, 31)\n",
    "# Reverse sigmoid function: Use code below because the  sigmoid activation was removed\n",
    "thresholds = np.log(thresholds_ori/(1-thresholds_ori)) \n",
    "\n",
    "# ious = np.array([get_iou_vector(y_valid, preds_valid > threshold) for threshold in tqdm_notebook(thresholds)])\n",
    "# print(ious)\n",
    "ious = np.array([iou_metric_batch(y_valid, preds_valid > threshold) for threshold in tqdm_notebook(thresholds)])\n",
    "print(ious)"
   ]
  },
  {
   "cell_type": "code",
   "execution_count": 47,
   "metadata": {
    "_uuid": "1beb285910aa6532d7a69a70afa6a9671e6d347d"
   },
   "outputs": [
    {
     "data": {
      "text/plain": [
       "<matplotlib.legend.Legend at 0x7f1ae46ec6a0>"
      ]
     },
     "execution_count": 47,
     "metadata": {},
     "output_type": "execute_result"
    },
    {
     "name": "stderr",
     "output_type": "stream",
     "text": [
      "/usr/local/envs/py3env/lib/python3.5/site-packages/matplotlib/font_manager.py:1320: UserWarning: findfont: Font family ['sans-serif'] not found. Falling back to DejaVu Sans\n",
      "  (prop.get_family(), self.defaultFamily[fontext]))\n"
     ]
    },
    {
     "data": {
      "image/png": "[encoded data removed]",
      "text/plain": [
       "<matplotlib.figure.Figure at 0x7f1ae8a2f860>"
      ]
     },
     "metadata": {},
     "output_type": "display_data"
    }
   ],
   "source": [
    "# instead of using default 0 as threshold, use validation data to find the best threshold.\n",
    "threshold_best_index = np.argmax(ious) \n",
    "iou_best = ious[threshold_best_index]\n",
    "threshold_best = thresholds[threshold_best_index]\n",
    "\n",
    "plt.plot(thresholds, ious)\n",
    "plt.plot(threshold_best, iou_best, \"xr\", label=\"Best threshold\")\n",
    "plt.xlabel(\"Threshold\")\n",
    "plt.ylabel(\"IoU\")\n",
    "plt.title(\"Threshold vs IoU ({}, {})\".format(threshold_best, iou_best))\n",
    "plt.legend()"
   ]
  },
  {
   "cell_type": "code",
   "execution_count": 48,
   "metadata": {
    "_uuid": "2c4852ecf2c504a4ce30e975f5e36b534c2111e6"
   },
   "outputs": [],
   "source": [
    "\"\"\"\n",
    "used for converting the decoded image to rle mask\n",
    "Fast compared to previous one\n",
    "\"\"\"\n",
    "def rle_encode(im):\n",
    "    '''\n",
    "    im: numpy array, 1 - mask, 0 - background\n",
    "    Returns run length as string formated\n",
    "    '''\n",
    "    pixels = im.flatten(order = 'F')\n",
    "    pixels = np.concatenate([[0], pixels, [0]])\n",
    "    runs = np.where(pixels[1:] != pixels[:-1])[0] + 1\n",
    "    runs[1::2] -= runs[::2]\n",
    "    return ' '.join(str(x) for x in runs)"
   ]
  },
  {
   "cell_type": "code",
   "execution_count": 49,
   "metadata": {
    "_uuid": "21bb50645b1c67d907e42c262d92f975668fccac"
   },
   "outputs": [
    {
     "data": {
      "application/vnd.jupyter.widget-view+json": {
       "model_id": "3809918a8315415f885780990985a3c8",
       "version_major": 2,
       "version_minor": 0
      },
      "text/plain": [
       "HBox(children=(IntProgress(value=0, max=18000), HTML(value='')))"
      ]
     },
     "metadata": {},
     "output_type": "display_data"
    },
    {
     "name": "stderr",
     "output_type": "stream",
     "text": [
      "/usr/local/envs/py3env/lib/python3.5/site-packages/keras_preprocessing/image.py:492: UserWarning: grayscale is deprecated. Please use color_mode = \"grayscale\"\n",
      "  warnings.warn('grayscale is deprecated. Please use '\n"
     ]
    }
   ],
   "source": [
    "x_test = np.array([(np.array(load_img(path_test + \"/images/{}.png\".format(idx), grayscale = True))) / 255 for idx in tqdm_notebook(test_df.index)]).reshape(-1, img_size_target, img_size_target, 1)\n",
    "\n"
   ]
  },
  {
   "cell_type": "code",
   "execution_count": 50,
   "metadata": {
    "_uuid": "ce8185fa64aafbe42ebde98aba984b4f22b0050e"
   },
   "outputs": [],
   "source": [
    "preds_test = predict_result(model,x_test,img_size_target)"
   ]
  },
  {
   "cell_type": "code",
   "execution_count": 51,
   "metadata": {
    "_uuid": "7ccac81a492b9caaff4a25401165e145cf2c6f8e"
   },
   "outputs": [
    {
     "data": {
      "application/vnd.jupyter.widget-view+json": {
       "model_id": "a83611bb364044f582d0d8ccd4a78d1c",
       "version_major": 2,
       "version_minor": 0
      },
      "text/plain": [
       "HBox(children=(IntProgress(value=0, max=18000), HTML(value='')))"
      ]
     },
     "metadata": {},
     "output_type": "display_data"
    },
    {
     "name": "stdout",
     "output_type": "stream",
     "text": [
      "Usedtime = 6.358325719833374 s\n"
     ]
    }
   ],
   "source": [
    "\n",
    "t1 = time.time()\n",
    "pred_dict = {idx: rle_encode(np.round(downsample(preds_test[i]) > threshold_best)) for i, idx in enumerate(tqdm_notebook(test_df.index.values))}\n",
    "t2 = time.time()\n",
    "\n",
    "print(\"Usedtime = {0} s\".format(t2-t1))"
   ]
  },
  {
   "cell_type": "code",
   "execution_count": 52,
   "metadata": {
    "_uuid": "770d7d596656f4f1ad17a6063ad662ac80e11b24"
   },
   "outputs": [],
   "source": [
    "sub = pd.DataFrame.from_dict(pred_dict,orient='index')\n",
    "sub.index.names = ['id']\n",
    "sub.columns = ['rle_mask']\n",
    "sub.to_csv(submission_file)"
   ]
  },
  {
   "cell_type": "code",
   "execution_count": null,
   "metadata": {
    "_uuid": "c89c406884ee54bee2c57aff51b116c157553ae9"
   },
   "outputs": [],
   "source": [
    "t_finish = time.time()\n",
    "print(f\"Kernel run time = {(t_finish-t_start)/3600} hours\")"
   ]
  },
  {
   "cell_type": "code",
   "execution_count": null,
   "metadata": {
    "_uuid": "a3009187c164635fbe163bd8ce406c2e309b1e5f",
    "collapsed": true
   },
   "outputs": [],
   "source": []
  }
 ],
 "metadata": {
  "kernelspec": {
   "display_name": "Python 3",
   "language": "python",
   "name": "python3"
  },
  "language_info": {
   "codemirror_mode": {
    "name": "ipython",
    "version": 3
   },
   "file_extension": ".py",
   "mimetype": "text/x-python",
   "name": "python",
   "nbconvert_exporter": "python",
   "pygments_lexer": "ipython3",
   "version": "3.5.5"
  }
 },
 "nbformat": 4,
 "nbformat_minor": 1
}
